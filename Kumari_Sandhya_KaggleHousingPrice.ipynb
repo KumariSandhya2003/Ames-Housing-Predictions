{
 "cells": [
  {
   "cell_type": "markdown",
   "metadata": {},
   "source": [
    "<h1 id=\"tocheading\">Table of Contents</h1>\n",
    "<div id=\"toc\"></div>"
   ]
  },
  {
   "cell_type": "markdown",
   "metadata": {},
   "source": [
    "## Ames Housing Dataset- Introduction\n",
    "Success! Your submission appears on this page. The submission confirmation number is caa8de1b-af27-48c1-93e3-83c279c1b304. Copy and save this number as proof of your submission. View all of your submission receipts in My Grades.\n",
    "\n",
    "  Dataset: The Housing dataset is taken from the Kaggle website. The dataset consists of  explanatory variables which describes almost every aspect of residential homes in Amess,Iowa.\n",
    "  \n",
    "  Objective: To predict the final price of each home\n",
    "  \n",
    "    -Linear Regression\n",
    "    -Random Forest\n",
    "    -Gradient Boosting\n",
    "    -Extra Trees\n",
    "    -Ridge\n",
    "    -ElasticNet"
   ]
  },
  {
   "cell_type": "code",
   "execution_count": 1,
   "metadata": {},
   "outputs": [],
   "source": [
    "import urllib\n",
    "import requests\n",
    "import pandas as pd\n",
    "import numpy as np \n",
    "import matplotlib.pyplot as plt\n",
    "import warnings\n",
    "warnings.filterwarnings('ignore')\n",
    "import seaborn as sns"
   ]
  },
  {
   "cell_type": "code",
   "execution_count": 2,
   "metadata": {},
   "outputs": [
    {
     "data": {
      "application/javascript": [
       "$.getScript('https://kmahelona.github.io/ipython_notebook_goodies/ipython_notebook_toc.js')\n"
      ],
      "text/plain": [
       "<IPython.core.display.Javascript object>"
      ]
     },
     "metadata": {},
     "output_type": "display_data"
    }
   ],
   "source": [
    "%%javascript\n",
    "$.getScript('https://kmahelona.github.io/ipython_notebook_goodies/ipython_notebook_toc.js')"
   ]
  },
  {
   "cell_type": "code",
   "execution_count": 3,
   "metadata": {},
   "outputs": [
    {
     "data": {
      "text/html": [
       "<div>\n",
       "<style scoped>\n",
       "    .dataframe tbody tr th:only-of-type {\n",
       "        vertical-align: middle;\n",
       "    }\n",
       "\n",
       "    .dataframe tbody tr th {\n",
       "        vertical-align: top;\n",
       "    }\n",
       "\n",
       "    .dataframe thead th {\n",
       "        text-align: right;\n",
       "    }\n",
       "</style>\n",
       "<table border=\"1\" class=\"dataframe\">\n",
       "  <thead>\n",
       "    <tr style=\"text-align: right;\">\n",
       "      <th></th>\n",
       "      <th>Id</th>\n",
       "      <th>MSSubClass</th>\n",
       "      <th>MSZoning</th>\n",
       "      <th>LotFrontage</th>\n",
       "      <th>LotArea</th>\n",
       "      <th>Street</th>\n",
       "      <th>Alley</th>\n",
       "      <th>LotShape</th>\n",
       "      <th>LandContour</th>\n",
       "      <th>Utilities</th>\n",
       "      <th>...</th>\n",
       "      <th>PoolArea</th>\n",
       "      <th>PoolQC</th>\n",
       "      <th>Fence</th>\n",
       "      <th>MiscFeature</th>\n",
       "      <th>MiscVal</th>\n",
       "      <th>MoSold</th>\n",
       "      <th>YrSold</th>\n",
       "      <th>SaleType</th>\n",
       "      <th>SaleCondition</th>\n",
       "      <th>SalePrice</th>\n",
       "    </tr>\n",
       "  </thead>\n",
       "  <tbody>\n",
       "    <tr>\n",
       "      <th>0</th>\n",
       "      <td>1</td>\n",
       "      <td>60</td>\n",
       "      <td>RL</td>\n",
       "      <td>65.0</td>\n",
       "      <td>8450</td>\n",
       "      <td>Pave</td>\n",
       "      <td>NaN</td>\n",
       "      <td>Reg</td>\n",
       "      <td>Lvl</td>\n",
       "      <td>AllPub</td>\n",
       "      <td>...</td>\n",
       "      <td>0</td>\n",
       "      <td>NaN</td>\n",
       "      <td>NaN</td>\n",
       "      <td>NaN</td>\n",
       "      <td>0</td>\n",
       "      <td>2</td>\n",
       "      <td>2008</td>\n",
       "      <td>WD</td>\n",
       "      <td>Normal</td>\n",
       "      <td>208500</td>\n",
       "    </tr>\n",
       "    <tr>\n",
       "      <th>1</th>\n",
       "      <td>2</td>\n",
       "      <td>20</td>\n",
       "      <td>RL</td>\n",
       "      <td>80.0</td>\n",
       "      <td>9600</td>\n",
       "      <td>Pave</td>\n",
       "      <td>NaN</td>\n",
       "      <td>Reg</td>\n",
       "      <td>Lvl</td>\n",
       "      <td>AllPub</td>\n",
       "      <td>...</td>\n",
       "      <td>0</td>\n",
       "      <td>NaN</td>\n",
       "      <td>NaN</td>\n",
       "      <td>NaN</td>\n",
       "      <td>0</td>\n",
       "      <td>5</td>\n",
       "      <td>2007</td>\n",
       "      <td>WD</td>\n",
       "      <td>Normal</td>\n",
       "      <td>181500</td>\n",
       "    </tr>\n",
       "    <tr>\n",
       "      <th>2</th>\n",
       "      <td>3</td>\n",
       "      <td>60</td>\n",
       "      <td>RL</td>\n",
       "      <td>68.0</td>\n",
       "      <td>11250</td>\n",
       "      <td>Pave</td>\n",
       "      <td>NaN</td>\n",
       "      <td>IR1</td>\n",
       "      <td>Lvl</td>\n",
       "      <td>AllPub</td>\n",
       "      <td>...</td>\n",
       "      <td>0</td>\n",
       "      <td>NaN</td>\n",
       "      <td>NaN</td>\n",
       "      <td>NaN</td>\n",
       "      <td>0</td>\n",
       "      <td>9</td>\n",
       "      <td>2008</td>\n",
       "      <td>WD</td>\n",
       "      <td>Normal</td>\n",
       "      <td>223500</td>\n",
       "    </tr>\n",
       "  </tbody>\n",
       "</table>\n",
       "<p>3 rows × 81 columns</p>\n",
       "</div>"
      ],
      "text/plain": [
       "   Id  MSSubClass MSZoning  LotFrontage  LotArea Street Alley LotShape  \\\n",
       "0   1          60       RL         65.0     8450   Pave   NaN      Reg   \n",
       "1   2          20       RL         80.0     9600   Pave   NaN      Reg   \n",
       "2   3          60       RL         68.0    11250   Pave   NaN      IR1   \n",
       "\n",
       "  LandContour Utilities    ...     PoolArea PoolQC Fence MiscFeature MiscVal  \\\n",
       "0         Lvl    AllPub    ...            0    NaN   NaN         NaN       0   \n",
       "1         Lvl    AllPub    ...            0    NaN   NaN         NaN       0   \n",
       "2         Lvl    AllPub    ...            0    NaN   NaN         NaN       0   \n",
       "\n",
       "  MoSold YrSold  SaleType  SaleCondition  SalePrice  \n",
       "0      2   2008        WD         Normal     208500  \n",
       "1      5   2007        WD         Normal     181500  \n",
       "2      9   2008        WD         Normal     223500  \n",
       "\n",
       "[3 rows x 81 columns]"
      ]
     },
     "execution_count": 3,
     "metadata": {},
     "output_type": "execute_result"
    }
   ],
   "source": [
    "# Downloaded housing dataset from the Kaggle website\n",
    "#C:\\Users\\email\\Downloads\n",
    "pathname = \"C:/Users/email/Downloads/\"\n",
    "house = pd.read_csv(pathname + \"train.csv\") \n",
    "df_test = pd.read_csv(pathname + \"test.csv\")\n",
    "\n",
    "# displaying first 3 rows\n",
    "house[:3]\n"
   ]
  },
  {
   "cell_type": "code",
   "execution_count": 4,
   "metadata": {},
   "outputs": [],
   "source": [
    "# checking the shape of the dataframe(rows,columns)\n",
    "#house.shape #1460,81\n"
   ]
  },
  {
   "cell_type": "code",
   "execution_count": 5,
   "metadata": {},
   "outputs": [],
   "source": [
    "# checking full information \n",
    "#house.info()\n"
   ]
  },
  {
   "cell_type": "markdown",
   "metadata": {},
   "source": [
    "### Housing Data Info:\n",
    "1. Dataset description: the dataset has 1460 observations and 81 variables. \n",
    "2. Objective: A supervised learning to learn the relationship between the independent variables such as 'BedroomAbvGr,\"OverallQual\", \"LotArea\",\"GarageType\",\"KitchenQual\",\"GrLivArea\",\"PavedDrive\" and the  dependent variable which is Sale price of the house.\n",
    "Altogether, 43 categorical and 38 numeric independent variables."
   ]
  },
  {
   "cell_type": "code",
   "execution_count": 7,
   "metadata": {},
   "outputs": [
    {
     "data": {
      "text/plain": [
       "LotFrontage      259\n",
       "Alley           1369\n",
       "MasVnrType         8\n",
       "MasVnrArea         8\n",
       "BsmtQual          37\n",
       "BsmtCond          37\n",
       "BsmtExposure      38\n",
       "BsmtFinType1      37\n",
       "BsmtFinType2      38\n",
       "Electrical         1\n",
       "FireplaceQu      690\n",
       "GarageType        81\n",
       "GarageYrBlt       81\n",
       "GarageFinish      81\n",
       "GarageQual        81\n",
       "GarageCond        81\n",
       "PoolQC          1453\n",
       "Fence           1179\n",
       "MiscFeature     1406\n",
       "dtype: int64"
      ]
     },
     "execution_count": 7,
     "metadata": {},
     "output_type": "execute_result"
    }
   ],
   "source": [
    "# Let's check columns with missing values\n",
    "nulls = house.isnull().sum()\n",
    "nulls[nulls > 0]"
   ]
  },
  {
   "cell_type": "markdown",
   "metadata": {},
   "source": [
    "As we see result of the missing values, out of 1460 observations - Alley, PoolQC, Fence, MiscFeature & FireplaceQu have more than 94%,99.5%,81%,96%,47% of the missing values."
   ]
  },
  {
   "cell_type": "code",
   "execution_count": 8,
   "metadata": {},
   "outputs": [],
   "source": [
    "# Dropping Id(non-informative) and all variables with more than 20% null values\n",
    "# Also, bldgType can be represented by MSSubClass\n",
    "df = house.drop(['Id','Alley','FireplaceQu','PoolQC','MiscFeature','Fence'], axis=1)"
   ]
  },
  {
   "cell_type": "code",
   "execution_count": 9,
   "metadata": {},
   "outputs": [],
   "source": [
    "# MSSubClass listed as integer but it's a categorical variable, let's convert it\n",
    "df['MSSubClass'] = df['MSSubClass'].astype(object)"
   ]
  },
  {
   "cell_type": "code",
   "execution_count": 10,
   "metadata": {},
   "outputs": [
    {
     "data": {
      "text/html": [
       "<div>\n",
       "<style scoped>\n",
       "    .dataframe tbody tr th:only-of-type {\n",
       "        vertical-align: middle;\n",
       "    }\n",
       "\n",
       "    .dataframe tbody tr th {\n",
       "        vertical-align: top;\n",
       "    }\n",
       "\n",
       "    .dataframe thead th {\n",
       "        text-align: right;\n",
       "    }\n",
       "</style>\n",
       "<table border=\"1\" class=\"dataframe\">\n",
       "  <thead>\n",
       "    <tr style=\"text-align: right;\">\n",
       "      <th></th>\n",
       "      <th>MSSubClass</th>\n",
       "      <th>MSZoning</th>\n",
       "      <th>LotFrontage</th>\n",
       "      <th>LotArea</th>\n",
       "      <th>Street</th>\n",
       "      <th>LotShape</th>\n",
       "      <th>LandContour</th>\n",
       "      <th>Utilities</th>\n",
       "      <th>LotConfig</th>\n",
       "      <th>LandSlope</th>\n",
       "      <th>...</th>\n",
       "      <th>EnclosedPorch</th>\n",
       "      <th>3SsnPorch</th>\n",
       "      <th>ScreenPorch</th>\n",
       "      <th>PoolArea</th>\n",
       "      <th>MiscVal</th>\n",
       "      <th>MoSold</th>\n",
       "      <th>YrSold</th>\n",
       "      <th>SaleType</th>\n",
       "      <th>SaleCondition</th>\n",
       "      <th>SalePrice</th>\n",
       "    </tr>\n",
       "  </thead>\n",
       "  <tbody>\n",
       "    <tr>\n",
       "      <th>0</th>\n",
       "      <td>60</td>\n",
       "      <td>RL</td>\n",
       "      <td>65.0</td>\n",
       "      <td>8450</td>\n",
       "      <td>Pave</td>\n",
       "      <td>Reg</td>\n",
       "      <td>Lvl</td>\n",
       "      <td>AllPub</td>\n",
       "      <td>Inside</td>\n",
       "      <td>Gtl</td>\n",
       "      <td>...</td>\n",
       "      <td>0</td>\n",
       "      <td>0</td>\n",
       "      <td>0</td>\n",
       "      <td>0</td>\n",
       "      <td>0</td>\n",
       "      <td>2</td>\n",
       "      <td>2008</td>\n",
       "      <td>WD</td>\n",
       "      <td>Normal</td>\n",
       "      <td>208500</td>\n",
       "    </tr>\n",
       "    <tr>\n",
       "      <th>1</th>\n",
       "      <td>20</td>\n",
       "      <td>RL</td>\n",
       "      <td>80.0</td>\n",
       "      <td>9600</td>\n",
       "      <td>Pave</td>\n",
       "      <td>Reg</td>\n",
       "      <td>Lvl</td>\n",
       "      <td>AllPub</td>\n",
       "      <td>FR2</td>\n",
       "      <td>Gtl</td>\n",
       "      <td>...</td>\n",
       "      <td>0</td>\n",
       "      <td>0</td>\n",
       "      <td>0</td>\n",
       "      <td>0</td>\n",
       "      <td>0</td>\n",
       "      <td>5</td>\n",
       "      <td>2007</td>\n",
       "      <td>WD</td>\n",
       "      <td>Normal</td>\n",
       "      <td>181500</td>\n",
       "    </tr>\n",
       "    <tr>\n",
       "      <th>2</th>\n",
       "      <td>60</td>\n",
       "      <td>RL</td>\n",
       "      <td>68.0</td>\n",
       "      <td>11250</td>\n",
       "      <td>Pave</td>\n",
       "      <td>IR1</td>\n",
       "      <td>Lvl</td>\n",
       "      <td>AllPub</td>\n",
       "      <td>Inside</td>\n",
       "      <td>Gtl</td>\n",
       "      <td>...</td>\n",
       "      <td>0</td>\n",
       "      <td>0</td>\n",
       "      <td>0</td>\n",
       "      <td>0</td>\n",
       "      <td>0</td>\n",
       "      <td>9</td>\n",
       "      <td>2008</td>\n",
       "      <td>WD</td>\n",
       "      <td>Normal</td>\n",
       "      <td>223500</td>\n",
       "    </tr>\n",
       "    <tr>\n",
       "      <th>3</th>\n",
       "      <td>70</td>\n",
       "      <td>RL</td>\n",
       "      <td>60.0</td>\n",
       "      <td>9550</td>\n",
       "      <td>Pave</td>\n",
       "      <td>IR1</td>\n",
       "      <td>Lvl</td>\n",
       "      <td>AllPub</td>\n",
       "      <td>Corner</td>\n",
       "      <td>Gtl</td>\n",
       "      <td>...</td>\n",
       "      <td>272</td>\n",
       "      <td>0</td>\n",
       "      <td>0</td>\n",
       "      <td>0</td>\n",
       "      <td>0</td>\n",
       "      <td>2</td>\n",
       "      <td>2006</td>\n",
       "      <td>WD</td>\n",
       "      <td>Abnorml</td>\n",
       "      <td>140000</td>\n",
       "    </tr>\n",
       "    <tr>\n",
       "      <th>4</th>\n",
       "      <td>60</td>\n",
       "      <td>RL</td>\n",
       "      <td>84.0</td>\n",
       "      <td>14260</td>\n",
       "      <td>Pave</td>\n",
       "      <td>IR1</td>\n",
       "      <td>Lvl</td>\n",
       "      <td>AllPub</td>\n",
       "      <td>FR2</td>\n",
       "      <td>Gtl</td>\n",
       "      <td>...</td>\n",
       "      <td>0</td>\n",
       "      <td>0</td>\n",
       "      <td>0</td>\n",
       "      <td>0</td>\n",
       "      <td>0</td>\n",
       "      <td>12</td>\n",
       "      <td>2008</td>\n",
       "      <td>WD</td>\n",
       "      <td>Normal</td>\n",
       "      <td>250000</td>\n",
       "    </tr>\n",
       "  </tbody>\n",
       "</table>\n",
       "<p>5 rows × 75 columns</p>\n",
       "</div>"
      ],
      "text/plain": [
       "   MSSubClass MSZoning  LotFrontage  LotArea Street LotShape LandContour  \\\n",
       "0          60       RL         65.0     8450   Pave      Reg         Lvl   \n",
       "1          20       RL         80.0     9600   Pave      Reg         Lvl   \n",
       "2          60       RL         68.0    11250   Pave      IR1         Lvl   \n",
       "3          70       RL         60.0     9550   Pave      IR1         Lvl   \n",
       "4          60       RL         84.0    14260   Pave      IR1         Lvl   \n",
       "\n",
       "  Utilities LotConfig LandSlope    ...    EnclosedPorch 3SsnPorch ScreenPorch  \\\n",
       "0    AllPub    Inside       Gtl    ...                0         0           0   \n",
       "1    AllPub       FR2       Gtl    ...                0         0           0   \n",
       "2    AllPub    Inside       Gtl    ...                0         0           0   \n",
       "3    AllPub    Corner       Gtl    ...              272         0           0   \n",
       "4    AllPub       FR2       Gtl    ...                0         0           0   \n",
       "\n",
       "  PoolArea MiscVal  MoSold  YrSold  SaleType  SaleCondition SalePrice  \n",
       "0        0       0       2    2008        WD         Normal    208500  \n",
       "1        0       0       5    2007        WD         Normal    181500  \n",
       "2        0       0       9    2008        WD         Normal    223500  \n",
       "3        0       0       2    2006        WD        Abnorml    140000  \n",
       "4        0       0      12    2008        WD         Normal    250000  \n",
       "\n",
       "[5 rows x 75 columns]"
      ]
     },
     "execution_count": 10,
     "metadata": {},
     "output_type": "execute_result"
    }
   ],
   "source": [
    "# Filling every categorical column with missing values by its own most frequent value\n",
    "df = df.apply(lambda x:x.fillna(x.value_counts().index[0]))\n",
    "# let's check the status\n",
    "df.head()"
   ]
  },
  {
   "cell_type": "code",
   "execution_count": 11,
   "metadata": {},
   "outputs": [],
   "source": [
    "# Replacing null values with median for numeric variables\n",
    "df.fillna(df.mean(), inplace=True)"
   ]
  },
  {
   "cell_type": "code",
   "execution_count": 12,
   "metadata": {},
   "outputs": [
    {
     "data": {
      "text/plain": [
       "Series([], dtype: int64)"
      ]
     },
     "execution_count": 12,
     "metadata": {},
     "output_type": "execute_result"
    }
   ],
   "source": [
    "# let's check back NA\n",
    "nulls = df.isnull().sum()\n",
    "nulls[nulls > 0]\n",
    "\n",
    "# no NA values"
   ]
  },
  {
   "cell_type": "markdown",
   "metadata": {},
   "source": [
    "### Exploratory Data Analysis"
   ]
  },
  {
   "cell_type": "code",
   "execution_count": 13,
   "metadata": {},
   "outputs": [],
   "source": [
    "# collecting half of the categorical features\n",
    "categorical_features1 = ['MSSubClass','MSZoning','Street','LotShape','LandContour','Utilities','LotConfig','LandSlope',\n",
    "                        'Neighborhood','Condition1','Condition2', 'BldgType','HouseStyle','RoofStyle',\n",
    "                        'RoofMatl','Exterior1st','Exterior2nd','MasVnrType',\n",
    "                        'ExterQual','ExterCond','Foundation','BsmtQual','BsmtCond']"
   ]
  },
  {
   "cell_type": "code",
   "execution_count": 14,
   "metadata": {},
   "outputs": [],
   "source": [
    "# checking counts of different values of following features\n",
    "#df['MSSubClass'].value_counts()\n",
    "#df['MSZoning'].value_counts()\n",
    "#df['Street'].value_counts()\n",
    "#df['LotShape'].value_counts()\n",
    "#df['LandContour'].value_counts()\n",
    "#df['Utilities'].value_counts()\n",
    "#df['LotConfig'].value_counts()\n",
    "#df['LandSlope'].value_counts()\n",
    "#df['Neighborhood'].value_counts()\n",
    "#df['Condition1'].value_counts()\n",
    "#df['Condition2'].value_counts()\n",
    "#df['BldgType'].value_counts()\n",
    "#df['HouseStyle'].value_counts()\n",
    "#df['OverallQual'].value_counts()\n",
    "#df['OverallCond'].value_counts()"
   ]
  },
  {
   "cell_type": "code",
   "execution_count": 15,
   "metadata": {},
   "outputs": [
    {
     "data": {
      "image/png": "[encoded data removed]",
      "text/plain": [
       "<matplotlib.figure.Figure at 0x116c60b0668>"
      ]
     },
     "metadata": {
      "needs_background": "light"
     },
     "output_type": "display_data"
    }
   ],
   "source": [
    "# Let's see the plot of categorical_features1 \n",
    "ROWS, COLS = 5,5\n",
    "fig, ax = plt.subplots(ROWS, COLS, figsize=(18,18))\n",
    "row, col = 0, 0\n",
    "for i, categorical_feature1 in enumerate(categorical_features1):\n",
    "    if col == COLS - 1:\n",
    "        row += 1\n",
    "    col = i % COLS\n",
    "    df[categorical_feature1].value_counts().plot('bar', ax=ax[row, col]).set_title(categorical_feature1)"
   ]
  },
  {
   "cell_type": "markdown",
   "metadata": {},
   "source": [
    "#### Interpretaion of Categorical features 1: \n",
    "People definitely preferred houses with normal condition,paved street, having all public utilities, stabdard shingles as roof material and overall typical condition in residential homes in Ames, Iowa.\n",
    "\n",
    " MSSubClass -  37% instances have  '1-STORY 1946 & NEWER ALL STYLES' \n",
    "    while only .2% instances have '1-STORY W/FINISHED ATTIC ALL AGES'\n",
    "    \n",
    " MSZoning: 79% houses with 'Residential Low Density' ;\n",
    " \n",
    " Street: 99% house with Paved street.\n",
    " \n",
    " Regular Lot shape is in 63% of the houses\n",
    " \n",
    " Near Flat/Level is in around 90% of the houses \n",
    " \n",
    " All public Utilities are in 99.9%  of the houses.\n",
    " \n",
    " 72% house with 'Inside lot(configuration)'.\n",
    " \n",
    " 95% house with Gentle Slope(LandSlope)\n",
    " \n",
    " North Ames(Neighborhood) present in 15% of houses\n",
    " \n",
    " 86% houses with 'Norm'(condition1)\n",
    " \n",
    " 98.9% houses with 'Norm'(condition2)\n",
    " \n",
    " 83.5% houses with '1 family' dwelling type\n",
    " \n",
    " 50% houses with '1 story' dwelling style\n",
    " \n",
    " 27% houses with average overall quality \n",
    " \n",
    " 56% huses with average overall condition\n",
    " \n",
    " 98% houses have standard shingle as roof material\n",
    " \n",
    " 62% average quality houses\n",
    " \n",
    " 88% average/typical conditioned houses\n",
    " \n",
    " 47% Typical height of the basement\n",
    " \n",
    " 92% Typical condition of the house"
   ]
  },
  {
   "cell_type": "code",
   "execution_count": 16,
   "metadata": {},
   "outputs": [
    {
     "data": {
      "image/png": "[encoded data removed]",
      "text/plain": [
       "<matplotlib.figure.Figure at 0x116c6ea6470>"
      ]
     },
     "metadata": {
      "needs_background": "light"
     },
     "output_type": "display_data"
    }
   ],
   "source": [
    "categorical_features2 = ['BsmtExposure','BsmtFinType1','BsmtFinType2','Heating','HeatingQC',\n",
    "                       'CentralAir','Electrical','KitchenQual','Functional','GarageType',\n",
    "                        'GarageFinish','GarageQual','GarageCond',\n",
    "                      'PavedDrive','SaleType','SaleCondition']\n",
    "ROWS, COLS = 4,4\n",
    "fig, ax = plt.subplots(ROWS, COLS, figsize=(18,18))\n",
    "row, col = 0, 0\n",
    "for i, categorical_feature2 in enumerate(categorical_features2):\n",
    "    if col == COLS - 1:\n",
    "        row += 1\n",
    "    col = i % COLS\n",
    "    df[categorical_feature2].value_counts().plot('bar', ax=ax[row, col]).set_title(categorical_feature2)"
   ]
  },
  {
   "cell_type": "code",
   "execution_count": 17,
   "metadata": {},
   "outputs": [],
   "source": [
    "# counting the unique values in categorical features\n",
    "#df['Heating'].value_counts() # 97.8%(GasA)\n",
    "#df['GarageType'].value_counts() #65% (Attchd)\n",
    "#df['GarageFinish'].value_counts() #46.9%(Unf)\n",
    "#df['GarageCond'].value_counts() # 96.3%(TA)\n",
    "#df['Functional'].value_counts() # 93% (TYp)\n",
    "#df['GarageQual'].value_counts() # 95%(TA)\n",
    "#df['SaleType'].value_counts() # 86.7%(WD)\n",
    "#df['HeatingQC'].value_counts() # 50.7%(Ex)\n",
    "#df['SaleCondition'].value_counts() #82%(Normal)\n",
    "#df['Electrical'].value_counts() # 91%(SBrkr)\n",
    "#df['BsmtFinType2'].value_counts() # 88.6%(Unf)\n",
    "#df['BsmtExposure'].value_counts() # 68% (No)"
   ]
  },
  {
   "cell_type": "markdown",
   "metadata": {},
   "source": [
    "\n",
    "#### Interpretation of categorical features2:\n",
    "Residential Homes with Gas forced warm air furnace,  having typical functionality, garage condition & quality and standard electrical sytem as must have attributes.\n",
    "\n",
    "\n",
    " 97.8% houses have 'Gas forced warm air furnace'\n",
    " \n",
    " 65% houses have garage 'attached to home'\n",
    " \n",
    " 46.9% houses have  'unfinished' garage\n",
    " \n",
    " 96.3% houses have 'typical' garage condition\n",
    " \n",
    " 93% houses have typical functionality\n",
    " \n",
    " 95% typical garage quality\n",
    " \n",
    " 86.7% houses are sold by warranty deed\n",
    " \n",
    " Around 51% houses are having excellent heating quality\n",
    " \n",
    " 82% houses were in normal condition of sale\n",
    " \n",
    " 91% houses with 'Standard Circuit Breakers & Romex' electrical system\n",
    " \n",
    " 89% houses with unfinished basement area if having multiple types\n",
    " \n",
    " 68% houses with no basement exposure\n",
    "\n"
   ]
  },
  {
   "cell_type": "markdown",
   "metadata": {},
   "source": [
    "#### Let's check out analysis with numerical variables"
   ]
  },
  {
   "cell_type": "code",
   "execution_count": 18,
   "metadata": {},
   "outputs": [
    {
     "data": {
      "text/html": [
       "<div>\n",
       "<style scoped>\n",
       "    .dataframe tbody tr th:only-of-type {\n",
       "        vertical-align: middle;\n",
       "    }\n",
       "\n",
       "    .dataframe tbody tr th {\n",
       "        vertical-align: top;\n",
       "    }\n",
       "\n",
       "    .dataframe thead th {\n",
       "        text-align: right;\n",
       "    }\n",
       "</style>\n",
       "<table border=\"1\" class=\"dataframe\">\n",
       "  <thead>\n",
       "    <tr style=\"text-align: right;\">\n",
       "      <th></th>\n",
       "      <th>MSSubClass</th>\n",
       "      <th>LotFrontage</th>\n",
       "      <th>LotArea</th>\n",
       "      <th>OverallQual</th>\n",
       "      <th>OverallCond</th>\n",
       "      <th>YearBuilt</th>\n",
       "      <th>YearRemodAdd</th>\n",
       "      <th>MasVnrArea</th>\n",
       "      <th>BsmtFinSF1</th>\n",
       "      <th>BsmtFinSF2</th>\n",
       "      <th>...</th>\n",
       "      <th>WoodDeckSF</th>\n",
       "      <th>OpenPorchSF</th>\n",
       "      <th>EnclosedPorch</th>\n",
       "      <th>3SsnPorch</th>\n",
       "      <th>ScreenPorch</th>\n",
       "      <th>PoolArea</th>\n",
       "      <th>MiscVal</th>\n",
       "      <th>MoSold</th>\n",
       "      <th>YrSold</th>\n",
       "      <th>SalePrice</th>\n",
       "    </tr>\n",
       "  </thead>\n",
       "  <tbody>\n",
       "    <tr>\n",
       "      <th>count</th>\n",
       "      <td>1460.000000</td>\n",
       "      <td>1460.000000</td>\n",
       "      <td>1460.000000</td>\n",
       "      <td>1460.000000</td>\n",
       "      <td>1460.000000</td>\n",
       "      <td>1460.000000</td>\n",
       "      <td>1460.000000</td>\n",
       "      <td>1460.000000</td>\n",
       "      <td>1460.000000</td>\n",
       "      <td>1460.000000</td>\n",
       "      <td>...</td>\n",
       "      <td>1460.000000</td>\n",
       "      <td>1460.000000</td>\n",
       "      <td>1460.000000</td>\n",
       "      <td>1460.000000</td>\n",
       "      <td>1460.000000</td>\n",
       "      <td>1460.000000</td>\n",
       "      <td>1460.000000</td>\n",
       "      <td>1460.000000</td>\n",
       "      <td>1460.000000</td>\n",
       "      <td>1460.000000</td>\n",
       "    </tr>\n",
       "    <tr>\n",
       "      <th>mean</th>\n",
       "      <td>56.897260</td>\n",
       "      <td>68.267123</td>\n",
       "      <td>10516.828082</td>\n",
       "      <td>6.099315</td>\n",
       "      <td>5.575342</td>\n",
       "      <td>1971.267808</td>\n",
       "      <td>1984.865753</td>\n",
       "      <td>103.117123</td>\n",
       "      <td>443.639726</td>\n",
       "      <td>46.549315</td>\n",
       "      <td>...</td>\n",
       "      <td>94.244521</td>\n",
       "      <td>46.660274</td>\n",
       "      <td>21.954110</td>\n",
       "      <td>3.409589</td>\n",
       "      <td>15.060959</td>\n",
       "      <td>2.758904</td>\n",
       "      <td>43.489041</td>\n",
       "      <td>6.321918</td>\n",
       "      <td>2007.815753</td>\n",
       "      <td>180921.195890</td>\n",
       "    </tr>\n",
       "    <tr>\n",
       "      <th>std</th>\n",
       "      <td>42.300571</td>\n",
       "      <td>22.356355</td>\n",
       "      <td>9981.264932</td>\n",
       "      <td>1.382997</td>\n",
       "      <td>1.112799</td>\n",
       "      <td>30.202904</td>\n",
       "      <td>20.645407</td>\n",
       "      <td>180.731373</td>\n",
       "      <td>456.098091</td>\n",
       "      <td>161.319273</td>\n",
       "      <td>...</td>\n",
       "      <td>125.338794</td>\n",
       "      <td>66.256028</td>\n",
       "      <td>61.119149</td>\n",
       "      <td>29.317331</td>\n",
       "      <td>55.757415</td>\n",
       "      <td>40.177307</td>\n",
       "      <td>496.123024</td>\n",
       "      <td>2.703626</td>\n",
       "      <td>1.328095</td>\n",
       "      <td>79442.502883</td>\n",
       "    </tr>\n",
       "    <tr>\n",
       "      <th>min</th>\n",
       "      <td>20.000000</td>\n",
       "      <td>21.000000</td>\n",
       "      <td>1300.000000</td>\n",
       "      <td>1.000000</td>\n",
       "      <td>1.000000</td>\n",
       "      <td>1872.000000</td>\n",
       "      <td>1950.000000</td>\n",
       "      <td>0.000000</td>\n",
       "      <td>0.000000</td>\n",
       "      <td>0.000000</td>\n",
       "      <td>...</td>\n",
       "      <td>0.000000</td>\n",
       "      <td>0.000000</td>\n",
       "      <td>0.000000</td>\n",
       "      <td>0.000000</td>\n",
       "      <td>0.000000</td>\n",
       "      <td>0.000000</td>\n",
       "      <td>0.000000</td>\n",
       "      <td>1.000000</td>\n",
       "      <td>2006.000000</td>\n",
       "      <td>34900.000000</td>\n",
       "    </tr>\n",
       "    <tr>\n",
       "      <th>25%</th>\n",
       "      <td>20.000000</td>\n",
       "      <td>60.000000</td>\n",
       "      <td>7553.500000</td>\n",
       "      <td>5.000000</td>\n",
       "      <td>5.000000</td>\n",
       "      <td>1954.000000</td>\n",
       "      <td>1967.000000</td>\n",
       "      <td>0.000000</td>\n",
       "      <td>0.000000</td>\n",
       "      <td>0.000000</td>\n",
       "      <td>...</td>\n",
       "      <td>0.000000</td>\n",
       "      <td>0.000000</td>\n",
       "      <td>0.000000</td>\n",
       "      <td>0.000000</td>\n",
       "      <td>0.000000</td>\n",
       "      <td>0.000000</td>\n",
       "      <td>0.000000</td>\n",
       "      <td>5.000000</td>\n",
       "      <td>2007.000000</td>\n",
       "      <td>129975.000000</td>\n",
       "    </tr>\n",
       "    <tr>\n",
       "      <th>50%</th>\n",
       "      <td>50.000000</td>\n",
       "      <td>63.000000</td>\n",
       "      <td>9478.500000</td>\n",
       "      <td>6.000000</td>\n",
       "      <td>5.000000</td>\n",
       "      <td>1973.000000</td>\n",
       "      <td>1994.000000</td>\n",
       "      <td>0.000000</td>\n",
       "      <td>383.500000</td>\n",
       "      <td>0.000000</td>\n",
       "      <td>...</td>\n",
       "      <td>0.000000</td>\n",
       "      <td>25.000000</td>\n",
       "      <td>0.000000</td>\n",
       "      <td>0.000000</td>\n",
       "      <td>0.000000</td>\n",
       "      <td>0.000000</td>\n",
       "      <td>0.000000</td>\n",
       "      <td>6.000000</td>\n",
       "      <td>2008.000000</td>\n",
       "      <td>163000.000000</td>\n",
       "    </tr>\n",
       "    <tr>\n",
       "      <th>75%</th>\n",
       "      <td>70.000000</td>\n",
       "      <td>79.000000</td>\n",
       "      <td>11601.500000</td>\n",
       "      <td>7.000000</td>\n",
       "      <td>6.000000</td>\n",
       "      <td>2000.000000</td>\n",
       "      <td>2004.000000</td>\n",
       "      <td>164.250000</td>\n",
       "      <td>712.250000</td>\n",
       "      <td>0.000000</td>\n",
       "      <td>...</td>\n",
       "      <td>168.000000</td>\n",
       "      <td>68.000000</td>\n",
       "      <td>0.000000</td>\n",
       "      <td>0.000000</td>\n",
       "      <td>0.000000</td>\n",
       "      <td>0.000000</td>\n",
       "      <td>0.000000</td>\n",
       "      <td>8.000000</td>\n",
       "      <td>2009.000000</td>\n",
       "      <td>214000.000000</td>\n",
       "    </tr>\n",
       "    <tr>\n",
       "      <th>max</th>\n",
       "      <td>190.000000</td>\n",
       "      <td>313.000000</td>\n",
       "      <td>215245.000000</td>\n",
       "      <td>10.000000</td>\n",
       "      <td>9.000000</td>\n",
       "      <td>2010.000000</td>\n",
       "      <td>2010.000000</td>\n",
       "      <td>1600.000000</td>\n",
       "      <td>5644.000000</td>\n",
       "      <td>1474.000000</td>\n",
       "      <td>...</td>\n",
       "      <td>857.000000</td>\n",
       "      <td>547.000000</td>\n",
       "      <td>552.000000</td>\n",
       "      <td>508.000000</td>\n",
       "      <td>480.000000</td>\n",
       "      <td>738.000000</td>\n",
       "      <td>15500.000000</td>\n",
       "      <td>12.000000</td>\n",
       "      <td>2010.000000</td>\n",
       "      <td>755000.000000</td>\n",
       "    </tr>\n",
       "  </tbody>\n",
       "</table>\n",
       "<p>8 rows × 37 columns</p>\n",
       "</div>"
      ],
      "text/plain": [
       "        MSSubClass  LotFrontage        LotArea  OverallQual  OverallCond  \\\n",
       "count  1460.000000  1460.000000    1460.000000  1460.000000  1460.000000   \n",
       "mean     56.897260    68.267123   10516.828082     6.099315     5.575342   \n",
       "std      42.300571    22.356355    9981.264932     1.382997     1.112799   \n",
       "min      20.000000    21.000000    1300.000000     1.000000     1.000000   \n",
       "25%      20.000000    60.000000    7553.500000     5.000000     5.000000   \n",
       "50%      50.000000    63.000000    9478.500000     6.000000     5.000000   \n",
       "75%      70.000000    79.000000   11601.500000     7.000000     6.000000   \n",
       "max     190.000000   313.000000  215245.000000    10.000000     9.000000   \n",
       "\n",
       "         YearBuilt  YearRemodAdd   MasVnrArea   BsmtFinSF1   BsmtFinSF2  \\\n",
       "count  1460.000000   1460.000000  1460.000000  1460.000000  1460.000000   \n",
       "mean   1971.267808   1984.865753   103.117123   443.639726    46.549315   \n",
       "std      30.202904     20.645407   180.731373   456.098091   161.319273   \n",
       "min    1872.000000   1950.000000     0.000000     0.000000     0.000000   \n",
       "25%    1954.000000   1967.000000     0.000000     0.000000     0.000000   \n",
       "50%    1973.000000   1994.000000     0.000000   383.500000     0.000000   \n",
       "75%    2000.000000   2004.000000   164.250000   712.250000     0.000000   \n",
       "max    2010.000000   2010.000000  1600.000000  5644.000000  1474.000000   \n",
       "\n",
       "           ...         WoodDeckSF  OpenPorchSF  EnclosedPorch    3SsnPorch  \\\n",
       "count      ...        1460.000000  1460.000000    1460.000000  1460.000000   \n",
       "mean       ...          94.244521    46.660274      21.954110     3.409589   \n",
       "std        ...         125.338794    66.256028      61.119149    29.317331   \n",
       "min        ...           0.000000     0.000000       0.000000     0.000000   \n",
       "25%        ...           0.000000     0.000000       0.000000     0.000000   \n",
       "50%        ...           0.000000    25.000000       0.000000     0.000000   \n",
       "75%        ...         168.000000    68.000000       0.000000     0.000000   \n",
       "max        ...         857.000000   547.000000     552.000000   508.000000   \n",
       "\n",
       "       ScreenPorch     PoolArea       MiscVal       MoSold       YrSold  \\\n",
       "count  1460.000000  1460.000000   1460.000000  1460.000000  1460.000000   \n",
       "mean     15.060959     2.758904     43.489041     6.321918  2007.815753   \n",
       "std      55.757415    40.177307    496.123024     2.703626     1.328095   \n",
       "min       0.000000     0.000000      0.000000     1.000000  2006.000000   \n",
       "25%       0.000000     0.000000      0.000000     5.000000  2007.000000   \n",
       "50%       0.000000     0.000000      0.000000     6.000000  2008.000000   \n",
       "75%       0.000000     0.000000      0.000000     8.000000  2009.000000   \n",
       "max     480.000000   738.000000  15500.000000    12.000000  2010.000000   \n",
       "\n",
       "           SalePrice  \n",
       "count    1460.000000  \n",
       "mean   180921.195890  \n",
       "std     79442.502883  \n",
       "min     34900.000000  \n",
       "25%    129975.000000  \n",
       "50%    163000.000000  \n",
       "75%    214000.000000  \n",
       "max    755000.000000  \n",
       "\n",
       "[8 rows x 37 columns]"
      ]
     },
     "execution_count": 18,
     "metadata": {},
     "output_type": "execute_result"
    }
   ],
   "source": [
    "# descriptive statistics for 'numeric'  variables.\n",
    "df.describe()"
   ]
  },
  {
   "cell_type": "markdown",
   "metadata": {},
   "source": [
    "Average overall quality of the house is \"above average\" with average sale price of $180K. The houses sold in this dataset are on an average built in the year 1971 with variation of 30 years. And, the houses sold on an average in the year 2007 with variation of 1 year. Outliers can be seen in SalePrice, OverQual, BsmtFinSF1,BsmtUnfSF, EnclosedPorch(75% of the house don't have), and similar pattern can be seen for PoolArea, 3SsnPorch, ScreenPorch, MiscVal."
   ]
  },
  {
   "cell_type": "code",
   "execution_count": 19,
   "metadata": {},
   "outputs": [],
   "source": [
    "# creating data frame using all integer type variables\n",
    "num_df1 = df.select_dtypes(include=['int64']).copy()\n",
    "#num_df1"
   ]
  },
  {
   "cell_type": "code",
   "execution_count": 20,
   "metadata": {},
   "outputs": [
    {
     "data": {
      "text/plain": [
       "<matplotlib.axes._subplots.AxesSubplot at 0x116c6f1f860>"
      ]
     },
     "execution_count": 20,
     "metadata": {},
     "output_type": "execute_result"
    },
    {
     "data": {
      "image/png": "[encoded data removed]",
      "text/plain": [
       "<matplotlib.figure.Figure at 0x116c6e6fcf8>"
      ]
     },
     "metadata": {
      "needs_background": "light"
     },
     "output_type": "display_data"
    }
   ],
   "source": [
    "import seaborn as sns\n",
    "\n",
    "#let's check relationship between price and year of house sale\n",
    "sns.boxplot(y='SalePrice', x='YrSold', data=df)\n"
   ]
  },
  {
   "cell_type": "markdown",
   "metadata": {},
   "source": [
    "As we see in the plot, median sale price has decreased in 2010 in comparison to previous years whereas house sale in 2008 has lowest interquartile range"
   ]
  },
  {
   "cell_type": "code",
   "execution_count": 21,
   "metadata": {},
   "outputs": [
    {
     "data": {
      "text/plain": [
       "<matplotlib.axes._subplots.AxesSubplot at 0x116c737dba8>"
      ]
     },
     "execution_count": 21,
     "metadata": {},
     "output_type": "execute_result"
    },
    {
     "data": {
      "image/png": "[encoded data removed]",
      "text/plain": [
       "<matplotlib.figure.Figure at 0x116c6deec18>"
      ]
     },
     "metadata": {
      "needs_background": "light"
     },
     "output_type": "display_data"
    }
   ],
   "source": [
    "# plot showing relationship between 3 variables\n",
    "sns.boxplot(y='SalePrice', x='MoSold',hue='YrSold', data=df)"
   ]
  },
  {
   "cell_type": "markdown",
   "metadata": {},
   "source": [
    "March to november of 2006 looks better in sale price with slight decline in May,July & October.\n",
    "Second half of the year 2007 looks better in sale price except september"
   ]
  },
  {
   "cell_type": "code",
   "execution_count": 22,
   "metadata": {},
   "outputs": [
    {
     "data": {
      "image/png": "[encoded data removed]",
      "text/plain": [
       "<matplotlib.figure.Figure at 0x116c604d438>"
      ]
     },
     "metadata": {
      "needs_background": "light"
     },
     "output_type": "display_data"
    }
   ],
   "source": [
    "# scatter plot depicting relationship between construction year and price of the house\n",
    "plt.scatter(x=df['YearBuilt'],y=df['SalePrice'])\n",
    "ax =plt.gca()\n",
    "ax.get_yaxis().get_major_formatter().set_scientific(False)\n",
    "plt.draw()\n"
   ]
  },
  {
   "cell_type": "markdown",
   "metadata": {},
   "source": [
    "There are more instances of houses built after 1920 and sale price were under $200k for most homes till 1960 and looks like prices started going up after that year consistently. Thus, higher price houses were built in and around year 2000"
   ]
  },
  {
   "cell_type": "code",
   "execution_count": 24,
   "metadata": {
    "scrolled": true
   },
   "outputs": [
    {
     "data": {
      "image/png": "[encoded data removed]",
      "text/plain": [
       "<matplotlib.figure.Figure at 0x116cf6b7c18>"
      ]
     },
     "metadata": {
      "needs_background": "light"
     },
     "output_type": "display_data"
    }
   ],
   "source": [
    "# scatter plot between lot size and price of the house\n",
    "plt.scatter(x=df['LotArea'],y=df['SalePrice'])\n",
    "ax =plt.gca()\n",
    "ax.get_yaxis().get_major_formatter().set_scientific(False)\n",
    "plt.draw()\n",
    "#sns.boxplot(y='SalePrice', x='LotArea', data=df)\n"
   ]
  },
  {
   "cell_type": "markdown",
   "metadata": {},
   "source": [
    "75% of houses are above 11K square feet and $214K as sale price.\n",
    "We can clearly see that there are five outliers in the lot area."
   ]
  },
  {
   "cell_type": "code",
   "execution_count": 711,
   "metadata": {},
   "outputs": [
    {
     "data": {
      "text/html": [
       "<div>\n",
       "<style scoped>\n",
       "    .dataframe tbody tr th:only-of-type {\n",
       "        vertical-align: middle;\n",
       "    }\n",
       "\n",
       "    .dataframe tbody tr th {\n",
       "        vertical-align: top;\n",
       "    }\n",
       "\n",
       "    .dataframe thead th {\n",
       "        text-align: right;\n",
       "    }\n",
       "</style>\n",
       "<table border=\"1\" class=\"dataframe\">\n",
       "  <thead>\n",
       "    <tr style=\"text-align: right;\">\n",
       "      <th></th>\n",
       "      <th>MSSubClass</th>\n",
       "      <th>MSZoning</th>\n",
       "      <th>LotFrontage</th>\n",
       "      <th>LotArea</th>\n",
       "      <th>Street</th>\n",
       "      <th>LotShape</th>\n",
       "      <th>LandContour</th>\n",
       "      <th>Utilities</th>\n",
       "      <th>LotConfig</th>\n",
       "      <th>LandSlope</th>\n",
       "      <th>...</th>\n",
       "      <th>EnclosedPorch</th>\n",
       "      <th>3SsnPorch</th>\n",
       "      <th>ScreenPorch</th>\n",
       "      <th>PoolArea</th>\n",
       "      <th>MiscVal</th>\n",
       "      <th>MoSold</th>\n",
       "      <th>YrSold</th>\n",
       "      <th>SaleType</th>\n",
       "      <th>SaleCondition</th>\n",
       "      <th>SalePrice</th>\n",
       "    </tr>\n",
       "  </thead>\n",
       "  <tbody>\n",
       "    <tr>\n",
       "      <th>706</th>\n",
       "      <td>20</td>\n",
       "      <td>RL</td>\n",
       "      <td>60.0</td>\n",
       "      <td>115149</td>\n",
       "      <td>Pave</td>\n",
       "      <td>IR2</td>\n",
       "      <td>Low</td>\n",
       "      <td>AllPub</td>\n",
       "      <td>CulDSac</td>\n",
       "      <td>Sev</td>\n",
       "      <td>...</td>\n",
       "      <td>0</td>\n",
       "      <td>0</td>\n",
       "      <td>0</td>\n",
       "      <td>0</td>\n",
       "      <td>0</td>\n",
       "      <td>6</td>\n",
       "      <td>2007</td>\n",
       "      <td>WD</td>\n",
       "      <td>Normal</td>\n",
       "      <td>302000</td>\n",
       "    </tr>\n",
       "    <tr>\n",
       "      <th>249</th>\n",
       "      <td>50</td>\n",
       "      <td>RL</td>\n",
       "      <td>60.0</td>\n",
       "      <td>159000</td>\n",
       "      <td>Pave</td>\n",
       "      <td>IR2</td>\n",
       "      <td>Low</td>\n",
       "      <td>AllPub</td>\n",
       "      <td>CulDSac</td>\n",
       "      <td>Sev</td>\n",
       "      <td>...</td>\n",
       "      <td>0</td>\n",
       "      <td>0</td>\n",
       "      <td>0</td>\n",
       "      <td>0</td>\n",
       "      <td>500</td>\n",
       "      <td>6</td>\n",
       "      <td>2007</td>\n",
       "      <td>WD</td>\n",
       "      <td>Normal</td>\n",
       "      <td>277000</td>\n",
       "    </tr>\n",
       "    <tr>\n",
       "      <th>335</th>\n",
       "      <td>190</td>\n",
       "      <td>RL</td>\n",
       "      <td>60.0</td>\n",
       "      <td>164660</td>\n",
       "      <td>Grvl</td>\n",
       "      <td>IR1</td>\n",
       "      <td>HLS</td>\n",
       "      <td>AllPub</td>\n",
       "      <td>Corner</td>\n",
       "      <td>Sev</td>\n",
       "      <td>...</td>\n",
       "      <td>0</td>\n",
       "      <td>0</td>\n",
       "      <td>0</td>\n",
       "      <td>0</td>\n",
       "      <td>700</td>\n",
       "      <td>8</td>\n",
       "      <td>2008</td>\n",
       "      <td>WD</td>\n",
       "      <td>Normal</td>\n",
       "      <td>228950</td>\n",
       "    </tr>\n",
       "    <tr>\n",
       "      <th>313</th>\n",
       "      <td>20</td>\n",
       "      <td>RL</td>\n",
       "      <td>150.0</td>\n",
       "      <td>215245</td>\n",
       "      <td>Pave</td>\n",
       "      <td>IR3</td>\n",
       "      <td>Low</td>\n",
       "      <td>AllPub</td>\n",
       "      <td>Inside</td>\n",
       "      <td>Sev</td>\n",
       "      <td>...</td>\n",
       "      <td>0</td>\n",
       "      <td>0</td>\n",
       "      <td>0</td>\n",
       "      <td>0</td>\n",
       "      <td>0</td>\n",
       "      <td>6</td>\n",
       "      <td>2009</td>\n",
       "      <td>WD</td>\n",
       "      <td>Normal</td>\n",
       "      <td>375000</td>\n",
       "    </tr>\n",
       "  </tbody>\n",
       "</table>\n",
       "<p>4 rows × 75 columns</p>\n",
       "</div>"
      ],
      "text/plain": [
       "    MSSubClass MSZoning  LotFrontage  LotArea Street LotShape LandContour  \\\n",
       "706         20       RL         60.0   115149   Pave      IR2         Low   \n",
       "249         50       RL         60.0   159000   Pave      IR2         Low   \n",
       "335        190       RL         60.0   164660   Grvl      IR1         HLS   \n",
       "313         20       RL        150.0   215245   Pave      IR3         Low   \n",
       "\n",
       "    Utilities LotConfig LandSlope  ... EnclosedPorch 3SsnPorch ScreenPorch  \\\n",
       "706    AllPub   CulDSac       Sev  ...             0         0           0   \n",
       "249    AllPub   CulDSac       Sev  ...             0         0           0   \n",
       "335    AllPub    Corner       Sev  ...             0         0           0   \n",
       "313    AllPub    Inside       Sev  ...             0         0           0   \n",
       "\n",
       "    PoolArea MiscVal  MoSold  YrSold  SaleType  SaleCondition SalePrice  \n",
       "706        0       0       6    2007        WD         Normal    302000  \n",
       "249        0     500       6    2007        WD         Normal    277000  \n",
       "335        0     700       8    2008        WD         Normal    228950  \n",
       "313        0       0       6    2009        WD         Normal    375000  \n",
       "\n",
       "[4 rows x 75 columns]"
      ]
     },
     "execution_count": 711,
     "metadata": {},
     "output_type": "execute_result"
    }
   ],
   "source": [
    "# let's check out last 4 outliers in lot area\n",
    "df.sort_values('LotArea').tail(4)"
   ]
  },
  {
   "cell_type": "markdown",
   "metadata": {},
   "source": [
    "It's worth noticing that severe landslope is common in last four outliers and sale price range is 225K to 375K."
   ]
  },
  {
   "cell_type": "code",
   "execution_count": 565,
   "metadata": {},
   "outputs": [
    {
     "data": {
      "text/plain": [
       "<matplotlib.axes._subplots.AxesSubplot at 0x215b1ee46d8>"
      ]
     },
     "execution_count": 565,
     "metadata": {},
     "output_type": "execute_result"
    },
    {
     "data": {
      "image/png": "[encoded data removed]",
      "text/plain": [
       "<Figure size 432x288 with 1 Axes>"
      ]
     },
     "metadata": {
      "needs_background": "light"
     },
     "output_type": "display_data"
    }
   ],
   "source": [
    "# EDA on target variable \"SalePrice\"\n",
    "sns.boxplot(y='SalePrice', data=df) "
   ]
  },
  {
   "cell_type": "markdown",
   "metadata": {},
   "source": []
  },
  {
   "cell_type": "code",
   "execution_count": 710,
   "metadata": {},
   "outputs": [
    {
     "data": {
      "text/html": [
       "<div>\n",
       "<style scoped>\n",
       "    .dataframe tbody tr th:only-of-type {\n",
       "        vertical-align: middle;\n",
       "    }\n",
       "\n",
       "    .dataframe tbody tr th {\n",
       "        vertical-align: top;\n",
       "    }\n",
       "\n",
       "    .dataframe thead th {\n",
       "        text-align: right;\n",
       "    }\n",
       "</style>\n",
       "<table border=\"1\" class=\"dataframe\">\n",
       "  <thead>\n",
       "    <tr style=\"text-align: right;\">\n",
       "      <th></th>\n",
       "      <th>LotArea</th>\n",
       "      <th>OverallQual</th>\n",
       "      <th>OverallCond</th>\n",
       "      <th>YearBuilt</th>\n",
       "      <th>YearRemodAdd</th>\n",
       "      <th>BsmtFinSF1</th>\n",
       "      <th>BsmtFinSF2</th>\n",
       "      <th>BsmtUnfSF</th>\n",
       "      <th>TotalBsmtSF</th>\n",
       "      <th>1stFlrSF</th>\n",
       "      <th>...</th>\n",
       "      <th>WoodDeckSF</th>\n",
       "      <th>OpenPorchSF</th>\n",
       "      <th>EnclosedPorch</th>\n",
       "      <th>3SsnPorch</th>\n",
       "      <th>ScreenPorch</th>\n",
       "      <th>PoolArea</th>\n",
       "      <th>MiscVal</th>\n",
       "      <th>MoSold</th>\n",
       "      <th>YrSold</th>\n",
       "      <th>SalePrice</th>\n",
       "    </tr>\n",
       "  </thead>\n",
       "  <tbody>\n",
       "    <tr>\n",
       "      <th>803</th>\n",
       "      <td>13891</td>\n",
       "      <td>9</td>\n",
       "      <td>5</td>\n",
       "      <td>2008</td>\n",
       "      <td>2009</td>\n",
       "      <td>0</td>\n",
       "      <td>0</td>\n",
       "      <td>1734</td>\n",
       "      <td>1734</td>\n",
       "      <td>1734</td>\n",
       "      <td>...</td>\n",
       "      <td>52</td>\n",
       "      <td>170</td>\n",
       "      <td>0</td>\n",
       "      <td>0</td>\n",
       "      <td>192</td>\n",
       "      <td>0</td>\n",
       "      <td>0</td>\n",
       "      <td>1</td>\n",
       "      <td>2009</td>\n",
       "      <td>582933</td>\n",
       "    </tr>\n",
       "    <tr>\n",
       "      <th>898</th>\n",
       "      <td>12919</td>\n",
       "      <td>9</td>\n",
       "      <td>5</td>\n",
       "      <td>2009</td>\n",
       "      <td>2010</td>\n",
       "      <td>2188</td>\n",
       "      <td>0</td>\n",
       "      <td>142</td>\n",
       "      <td>2330</td>\n",
       "      <td>2364</td>\n",
       "      <td>...</td>\n",
       "      <td>0</td>\n",
       "      <td>67</td>\n",
       "      <td>0</td>\n",
       "      <td>0</td>\n",
       "      <td>0</td>\n",
       "      <td>0</td>\n",
       "      <td>0</td>\n",
       "      <td>3</td>\n",
       "      <td>2010</td>\n",
       "      <td>611657</td>\n",
       "    </tr>\n",
       "    <tr>\n",
       "      <th>1169</th>\n",
       "      <td>35760</td>\n",
       "      <td>10</td>\n",
       "      <td>5</td>\n",
       "      <td>1995</td>\n",
       "      <td>1996</td>\n",
       "      <td>1387</td>\n",
       "      <td>0</td>\n",
       "      <td>543</td>\n",
       "      <td>1930</td>\n",
       "      <td>1831</td>\n",
       "      <td>...</td>\n",
       "      <td>361</td>\n",
       "      <td>76</td>\n",
       "      <td>0</td>\n",
       "      <td>0</td>\n",
       "      <td>0</td>\n",
       "      <td>0</td>\n",
       "      <td>0</td>\n",
       "      <td>7</td>\n",
       "      <td>2006</td>\n",
       "      <td>625000</td>\n",
       "    </tr>\n",
       "    <tr>\n",
       "      <th>1182</th>\n",
       "      <td>15623</td>\n",
       "      <td>10</td>\n",
       "      <td>5</td>\n",
       "      <td>1996</td>\n",
       "      <td>1996</td>\n",
       "      <td>2096</td>\n",
       "      <td>0</td>\n",
       "      <td>300</td>\n",
       "      <td>2396</td>\n",
       "      <td>2411</td>\n",
       "      <td>...</td>\n",
       "      <td>171</td>\n",
       "      <td>78</td>\n",
       "      <td>0</td>\n",
       "      <td>0</td>\n",
       "      <td>0</td>\n",
       "      <td>555</td>\n",
       "      <td>0</td>\n",
       "      <td>7</td>\n",
       "      <td>2007</td>\n",
       "      <td>745000</td>\n",
       "    </tr>\n",
       "    <tr>\n",
       "      <th>691</th>\n",
       "      <td>21535</td>\n",
       "      <td>10</td>\n",
       "      <td>6</td>\n",
       "      <td>1994</td>\n",
       "      <td>1995</td>\n",
       "      <td>1455</td>\n",
       "      <td>0</td>\n",
       "      <td>989</td>\n",
       "      <td>2444</td>\n",
       "      <td>2444</td>\n",
       "      <td>...</td>\n",
       "      <td>382</td>\n",
       "      <td>50</td>\n",
       "      <td>0</td>\n",
       "      <td>0</td>\n",
       "      <td>0</td>\n",
       "      <td>0</td>\n",
       "      <td>0</td>\n",
       "      <td>1</td>\n",
       "      <td>2007</td>\n",
       "      <td>755000</td>\n",
       "    </tr>\n",
       "  </tbody>\n",
       "</table>\n",
       "<p>5 rows × 33 columns</p>\n",
       "</div>"
      ],
      "text/plain": [
       "      LotArea  OverallQual  OverallCond  YearBuilt  YearRemodAdd  BsmtFinSF1  \\\n",
       "803     13891            9            5       2008          2009           0   \n",
       "898     12919            9            5       2009          2010        2188   \n",
       "1169    35760           10            5       1995          1996        1387   \n",
       "1182    15623           10            5       1996          1996        2096   \n",
       "691     21535           10            6       1994          1995        1455   \n",
       "\n",
       "      BsmtFinSF2  BsmtUnfSF  TotalBsmtSF  1stFlrSF  ...  WoodDeckSF  \\\n",
       "803            0       1734         1734      1734  ...          52   \n",
       "898            0        142         2330      2364  ...           0   \n",
       "1169           0        543         1930      1831  ...         361   \n",
       "1182           0        300         2396      2411  ...         171   \n",
       "691            0        989         2444      2444  ...         382   \n",
       "\n",
       "      OpenPorchSF  EnclosedPorch  3SsnPorch  ScreenPorch  PoolArea  MiscVal  \\\n",
       "803           170              0          0          192         0        0   \n",
       "898            67              0          0            0         0        0   \n",
       "1169           76              0          0            0         0        0   \n",
       "1182           78              0          0            0       555        0   \n",
       "691            50              0          0            0         0        0   \n",
       "\n",
       "      MoSold  YrSold  SalePrice  \n",
       "803        1    2009     582933  \n",
       "898        3    2010     611657  \n",
       "1169       7    2006     625000  \n",
       "1182       7    2007     745000  \n",
       "691        1    2007     755000  \n",
       "\n",
       "[5 rows x 33 columns]"
      ]
     },
     "execution_count": 710,
     "metadata": {},
     "output_type": "execute_result"
    }
   ],
   "source": [
    "# Let's check outliers for Sale price\n",
    "#df.sort_values('SalePrice').tail(5)\n",
    "num_df1.sort_values('SalePrice').tail(5)"
   ]
  },
  {
   "cell_type": "markdown",
   "metadata": {},
   "source": [
    "Last 4 higher sale price is for house which has slightly irregular,Low density residential area,excellent condition,built after 1993 and garage area is over 800 hundred square feet."
   ]
  },
  {
   "cell_type": "code",
   "execution_count": 567,
   "metadata": {},
   "outputs": [],
   "source": [
    "# Scatter plot visuals for numeric variables\n",
    "x_vars= ['OverallQual','TotalBsmtSF','1stFlrSF','GrLivArea']"
   ]
  },
  {
   "cell_type": "code",
   "execution_count": 568,
   "metadata": {},
   "outputs": [],
   "source": [
    "#Statistical summary of numerical variables\n",
    "#df['OverallQual'].describe()\n",
    "#df['TotalBsmtSF'].describe()\n",
    "#df['1stFlrSF'].describe()\n",
    "#df['GrLivArea'].describe()\n",
    "#checking 10 outliers in 1st floor Square feet area\n",
    "# num_df1.sort_values('1stFlrSF').tail(10)\n",
    "\n",
    "# checking all outliers in Overall quality of the house\n",
    "# num_df1.sort_values('OverallQual').tail(18) # there are 18 rows with '10'(very excellent)\n",
    "# checking all outliers in total basement sq. ft. of the house\n",
    "# num_df1.sort_values('TotalBsmtSF').tail(5)"
   ]
  },
  {
   "cell_type": "code",
   "execution_count": 722,
   "metadata": {},
   "outputs": [
    {
     "data": {
      "text/plain": [
       "<seaborn.axisgrid.PairGrid at 0x215c077e6a0>"
      ]
     },
     "execution_count": 722,
     "metadata": {},
     "output_type": "execute_result"
    },
    {
     "data": {
      "image/png": "[encoded data removed]",
      "text/plain": [
       "<Figure size 2016x720 with 4 Axes>"
      ]
     },
     "metadata": {
      "needs_background": "light"
     },
     "output_type": "display_data"
    }
   ],
   "source": [
    "# plotting against the target variable\n",
    "sns.pairplot(df, x_vars =['OverallQual','TotalBsmtSF','1stFlrSF','GrLivArea'],y_vars='SalePrice',size = 10,aspect=0.7)"
   ]
  },
  {
   "cell_type": "markdown",
   "metadata": {},
   "source": [
    "#### Interpretaion:\n",
    "Very excellent overall quality house got the highest sale price\n",
    "\n",
    " House with total basement square feet area ranging from 2.3K to 2.4K got the highest sale price.\n",
    " \n",
    "House with Sale price over $400K are having 1st floor area in the range of 2.2K sq.ft. to 3.2K sq.ft.\n",
    "\n",
    "Above ground living area is positively correlated with Sale price of the house which means sale price increases as above ground living area increases."
   ]
  },
  {
   "cell_type": "code",
   "execution_count": 709,
   "metadata": {},
   "outputs": [
    {
     "data": {
      "text/html": [
       "<div>\n",
       "<style scoped>\n",
       "    .dataframe tbody tr th:only-of-type {\n",
       "        vertical-align: middle;\n",
       "    }\n",
       "\n",
       "    .dataframe tbody tr th {\n",
       "        vertical-align: top;\n",
       "    }\n",
       "\n",
       "    .dataframe thead th {\n",
       "        text-align: right;\n",
       "    }\n",
       "</style>\n",
       "<table border=\"1\" class=\"dataframe\">\n",
       "  <thead>\n",
       "    <tr style=\"text-align: right;\">\n",
       "      <th></th>\n",
       "      <th>LotArea</th>\n",
       "      <th>OverallQual</th>\n",
       "      <th>OverallCond</th>\n",
       "      <th>YearBuilt</th>\n",
       "      <th>YearRemodAdd</th>\n",
       "      <th>BsmtFinSF1</th>\n",
       "      <th>BsmtFinSF2</th>\n",
       "      <th>BsmtUnfSF</th>\n",
       "      <th>TotalBsmtSF</th>\n",
       "      <th>1stFlrSF</th>\n",
       "      <th>...</th>\n",
       "      <th>WoodDeckSF</th>\n",
       "      <th>OpenPorchSF</th>\n",
       "      <th>EnclosedPorch</th>\n",
       "      <th>3SsnPorch</th>\n",
       "      <th>ScreenPorch</th>\n",
       "      <th>PoolArea</th>\n",
       "      <th>MiscVal</th>\n",
       "      <th>MoSold</th>\n",
       "      <th>YrSold</th>\n",
       "      <th>SalePrice</th>\n",
       "    </tr>\n",
       "  </thead>\n",
       "  <tbody>\n",
       "    <tr>\n",
       "      <th>1340</th>\n",
       "      <td>8294</td>\n",
       "      <td>4</td>\n",
       "      <td>5</td>\n",
       "      <td>1971</td>\n",
       "      <td>1971</td>\n",
       "      <td>0</td>\n",
       "      <td>0</td>\n",
       "      <td>858</td>\n",
       "      <td>858</td>\n",
       "      <td>872</td>\n",
       "      <td>...</td>\n",
       "      <td>0</td>\n",
       "      <td>0</td>\n",
       "      <td>0</td>\n",
       "      <td>0</td>\n",
       "      <td>0</td>\n",
       "      <td>0</td>\n",
       "      <td>0</td>\n",
       "      <td>6</td>\n",
       "      <td>2007</td>\n",
       "      <td>123000</td>\n",
       "    </tr>\n",
       "    <tr>\n",
       "      <th>1190</th>\n",
       "      <td>32463</td>\n",
       "      <td>4</td>\n",
       "      <td>4</td>\n",
       "      <td>1961</td>\n",
       "      <td>1975</td>\n",
       "      <td>1159</td>\n",
       "      <td>0</td>\n",
       "      <td>90</td>\n",
       "      <td>1249</td>\n",
       "      <td>1622</td>\n",
       "      <td>...</td>\n",
       "      <td>439</td>\n",
       "      <td>0</td>\n",
       "      <td>0</td>\n",
       "      <td>0</td>\n",
       "      <td>0</td>\n",
       "      <td>0</td>\n",
       "      <td>0</td>\n",
       "      <td>3</td>\n",
       "      <td>2007</td>\n",
       "      <td>168000</td>\n",
       "    </tr>\n",
       "    <tr>\n",
       "      <th>1350</th>\n",
       "      <td>11643</td>\n",
       "      <td>5</td>\n",
       "      <td>5</td>\n",
       "      <td>1969</td>\n",
       "      <td>1969</td>\n",
       "      <td>500</td>\n",
       "      <td>0</td>\n",
       "      <td>748</td>\n",
       "      <td>1248</td>\n",
       "      <td>1338</td>\n",
       "      <td>...</td>\n",
       "      <td>0</td>\n",
       "      <td>0</td>\n",
       "      <td>0</td>\n",
       "      <td>0</td>\n",
       "      <td>0</td>\n",
       "      <td>0</td>\n",
       "      <td>0</td>\n",
       "      <td>8</td>\n",
       "      <td>2009</td>\n",
       "      <td>200000</td>\n",
       "    </tr>\n",
       "    <tr>\n",
       "      <th>747</th>\n",
       "      <td>11700</td>\n",
       "      <td>7</td>\n",
       "      <td>7</td>\n",
       "      <td>1880</td>\n",
       "      <td>2003</td>\n",
       "      <td>0</td>\n",
       "      <td>0</td>\n",
       "      <td>1240</td>\n",
       "      <td>1240</td>\n",
       "      <td>1320</td>\n",
       "      <td>...</td>\n",
       "      <td>181</td>\n",
       "      <td>0</td>\n",
       "      <td>386</td>\n",
       "      <td>0</td>\n",
       "      <td>0</td>\n",
       "      <td>0</td>\n",
       "      <td>0</td>\n",
       "      <td>5</td>\n",
       "      <td>2009</td>\n",
       "      <td>265979</td>\n",
       "    </tr>\n",
       "    <tr>\n",
       "      <th>420</th>\n",
       "      <td>7060</td>\n",
       "      <td>7</td>\n",
       "      <td>5</td>\n",
       "      <td>1997</td>\n",
       "      <td>1998</td>\n",
       "      <td>1309</td>\n",
       "      <td>0</td>\n",
       "      <td>35</td>\n",
       "      <td>1344</td>\n",
       "      <td>1344</td>\n",
       "      <td>...</td>\n",
       "      <td>0</td>\n",
       "      <td>0</td>\n",
       "      <td>0</td>\n",
       "      <td>0</td>\n",
       "      <td>0</td>\n",
       "      <td>0</td>\n",
       "      <td>0</td>\n",
       "      <td>11</td>\n",
       "      <td>2008</td>\n",
       "      <td>206300</td>\n",
       "    </tr>\n",
       "  </tbody>\n",
       "</table>\n",
       "<p>5 rows × 33 columns</p>\n",
       "</div>"
      ],
      "text/plain": [
       "      LotArea  OverallQual  OverallCond  YearBuilt  YearRemodAdd  BsmtFinSF1  \\\n",
       "1340     8294            4            5       1971          1971           0   \n",
       "1190    32463            4            4       1961          1975        1159   \n",
       "1350    11643            5            5       1969          1969         500   \n",
       "747     11700            7            7       1880          2003           0   \n",
       "420      7060            7            5       1997          1998        1309   \n",
       "\n",
       "      BsmtFinSF2  BsmtUnfSF  TotalBsmtSF  1stFlrSF  ...  WoodDeckSF  \\\n",
       "1340           0        858          858       872  ...           0   \n",
       "1190           0         90         1249      1622  ...         439   \n",
       "1350           0        748         1248      1338  ...           0   \n",
       "747            0       1240         1240      1320  ...         181   \n",
       "420            0         35         1344      1344  ...           0   \n",
       "\n",
       "      OpenPorchSF  EnclosedPorch  3SsnPorch  ScreenPorch  PoolArea  MiscVal  \\\n",
       "1340            0              0          0            0         0        0   \n",
       "1190            0              0          0            0         0        0   \n",
       "1350            0              0          0            0         0        0   \n",
       "747             0            386          0            0         0        0   \n",
       "420             0              0          0            0         0        0   \n",
       "\n",
       "      MoSold  YrSold  SalePrice  \n",
       "1340       6    2007     123000  \n",
       "1190       3    2007     168000  \n",
       "1350       8    2009     200000  \n",
       "747        5    2009     265979  \n",
       "420       11    2008     206300  \n",
       "\n",
       "[5 rows x 33 columns]"
      ]
     },
     "execution_count": 709,
     "metadata": {},
     "output_type": "execute_result"
    }
   ],
   "source": [
    "# exploring next four numeric variables \n",
    "#x_vars=['FullBath','GarageCars','GarageArea','TotRmsAbvGrd']\n",
    "#Statistical summary of numerical variables\n",
    "#df['FullBath'].describe()\n",
    "#df['GarageCars'].describe()\n",
    "#df['GarageArea'].describe()\n",
    "#df['TotRmsAbvGrd'].describe()\n",
    "num_df1.sort_values('GarageCars').tail(5)"
   ]
  },
  {
   "cell_type": "code",
   "execution_count": 571,
   "metadata": {},
   "outputs": [
    {
     "data": {
      "text/plain": [
       "<seaborn.axisgrid.PairGrid at 0x215aa0dd6a0>"
      ]
     },
     "execution_count": 571,
     "metadata": {},
     "output_type": "execute_result"
    },
    {
     "data": {
      "image/png": "[encoded data removed]",
      "text/plain": [
       "<Figure size 2016x720 with 4 Axes>"
      ]
     },
     "metadata": {
      "needs_background": "light"
     },
     "output_type": "display_data"
    }
   ],
   "source": [
    "# showing correlation with target variable\n",
    "sns.pairplot(df, x_vars =['FullBath','GarageCars','GarageArea',\n",
    "                          'TotRmsAbvGrd'],y_vars='SalePrice',size = 10,aspect=0.7)"
   ]
  },
  {
   "cell_type": "markdown",
   "metadata": {},
   "source": [
    "#### Interpretation:\n",
    "We can notice in above plot that 1 full bath can go maximum sale price of 400K, sale price for 2 full bath is max 600k. Lastly, sale price for 3 full bath can start from 200k and go upto 700K but those instances are very less.\n",
    " Many Homes with 3 garage cars with high sale price while there are significant number of intances of 2,1 & 0 garage respectively. Some outliers are also present of 4 garage cars.\n",
    " Average garage area is 473 square  feet and positively correlated with Sale price.\n",
    " Median value for total rooms above ground is 6 rooms with 1 outlier of 14 rooms."
   ]
  },
  {
   "cell_type": "code",
   "execution_count": 712,
   "metadata": {},
   "outputs": [
    {
     "data": {
      "text/plain": [
       "<matplotlib.axes._subplots.AxesSubplot at 0x215c09c35c0>"
      ]
     },
     "execution_count": 712,
     "metadata": {},
     "output_type": "execute_result"
    },
    {
     "data": {
      "image/png": "[encoded data removed]",
      "text/plain": [
       "<Figure size 720x576 with 2 Axes>"
      ]
     },
     "metadata": {
      "needs_background": "light"
     },
     "output_type": "display_data"
    }
   ],
   "source": [
    "# Now, checking correlation coefficient of numeric variables\n",
    "# Visual representation of num_df1 using seaborn :\n",
    "import warnings\n",
    "warnings.filterwarnings('ignore')\n",
    "import seaborn as sns\n",
    "\n",
    "#num.df = df.select_dtypes([np.number]).columns\n",
    "f, ax = plt.subplots(figsize=(10, 8))\n",
    "corr = num_df1.corr()\n",
    "sns.heatmap(corr, mask=np.zeros_like(corr, dtype=np.bool), cmap=sns.diverging_palette(10,120, as_cmap=True),\n",
    "            square=True, ax=ax)"
   ]
  },
  {
   "cell_type": "code",
   "execution_count": 713,
   "metadata": {},
   "outputs": [
    {
     "data": {
      "text/plain": [
       "<matplotlib.axes._subplots.AxesSubplot at 0x215c08a0a58>"
      ]
     },
     "execution_count": 713,
     "metadata": {},
     "output_type": "execute_result"
    },
    {
     "data": {
      "image/png": "[encoded data removed]",
      "text/plain": [
       "<Figure size 720x576 with 2 Axes>"
      ]
     },
     "metadata": {
      "needs_background": "light"
     },
     "output_type": "display_data"
    }
   ],
   "source": [
    "# creating data frame using all float type variables\n",
    "num_df2 = df.select_dtypes(include=['float64']).copy()\n",
    "num_df2\n",
    "# Visual representation of num_df2 using seaborn :\n",
    "f, ax = plt.subplots(figsize=(10, 8))\n",
    "corr = num_df2.corr()\n",
    "sns.heatmap(corr, mask=np.zeros_like(corr, dtype=np.bool), cmap=sns.diverging_palette(20,120, as_cmap=True),\n",
    "            square=True, ax=ax)"
   ]
  },
  {
   "cell_type": "markdown",
   "metadata": {},
   "source": [
    "\n",
    "### Listed below is Correlation coefficient between IV and DV(SalePrice)\n",
    "\n",
    "LotFrontage   0.33477085 ;\n",
    "\n",
    "LotArea       0.26384335 ;\n",
    "\n",
    "OverallQual   0.79098160;\n",
    "OverallCond  -0.07785589;\n",
    "YearBuilt     0.52289733;\n",
    "YearRemodAdd  0.50710097;\n",
    "MasVnrArea    0.47261450;\n",
    "BsmtFinSF1    0.38641981;\n",
    "BsmtFinSF2   -0.01137812 ;\n",
    "BsmtUnfSF     0.21447911 ;\n",
    "TotalBsmtSF   0.61358055;\n",
    "1stFlrSF      0.60585218;\n",
    "2ndFlrSF      0.31933380;\n",
    "LowQualFinSF -0.02560613;\n",
    "GrLivArea     0.70862448;\n",
    "BsmtFullBath  0.22712223;\n",
    "BsmtHalfBath -0.01684415;\n",
    "`````````````````````````````````\n",
    "High-correlation variables are(+50%): OverallQual;YearBuilt;TotalBsmtSF;1stFlrSF;GrLivArea;FullBath;GarageCars;GarageArea;TotRmsAbvGrd;YearRemodAdd\n",
    "````````````````````````````````````````````\n",
    "FullBath       0.56066376;  \n",
    "HalfBath       0.28410768 ; \n",
    "BedroomAbvGr   0.16821315  ;\n",
    "KitchenAbvGr  -0.13590737  ;\n",
    "TotRmsAbvGrd   0.53372316  ;\n",
    "Fireplaces     0.46692884  ;\n",
    "GarageYrBlt    0.46675365  ;\n",
    "GarageCars     0.64040920  ;\n",
    "GarageArea     0.62343144  ;\n",
    "WoodDeckSF     0.32441344  ;\n",
    "OpenPorchSF    0.31585623  ;\n",
    "EnclosedPorch -0.12857796 ;\n",
    "3SsnPorch      0.04458367;\n",
    "ScreenPorch    0.11144657;\n",
    "PoolArea       0.09240355;\n",
    "MiscVal       -0.02118958;\n",
    "MoSold         0.04643225;\n",
    "YrSold        -0.02892259;\n",
    "\n",
    "As we see above plot and correlation coefficient,I'd keep IV that has above +/-20%  correlation with the DV such as LotFrontage,LotArea,OverallQual,YearBuilt,YearRemodAdd,BsmtFinSF1,BsmtUnfSF,\n",
    "TotalBsmtSF,1stFlrSF,2ndFlrSF,GrLivArea,BsmtFullBath,FullBath,HalfBath,BedroomAbvGr,KitchenAbvGr(-14%),TotRmsAbvGrd, Fireplaces,GarageYrBlt,GarageCars,GarageArea,WoodDeckSF,OpenPorchSF,EnclosedPorch(-13%),ScreenPorch.\n",
    "\n",
    "Therefore,I'd discard following: OverallCond,BsmtFinSF2,LowQualFinS,LowQualFinSF,BsmtHalfBath,3SsnPorch,PoolArea,MiscVal,\n",
    "MoSold,YrSold,BedroomAbvGr,KitchenAbvGr,EnclosedPorch,ScreenPorch,"
   ]
  },
  {
   "cell_type": "code",
   "execution_count": 726,
   "metadata": {},
   "outputs": [],
   "source": [
    "# First, designating target variable name\n",
    "targetName = 'SalePrice'\n",
    "targetSeries = df[targetName]\n",
    "#remove target from current location and insert in column 0\n",
    "del df[targetName]\n",
    "df.insert(0, targetName, targetSeries)\n",
    "#targetSeries is the new target "
   ]
  },
  {
   "cell_type": "markdown",
   "metadata": {},
   "source": [
    "### Let's start Model Training"
   ]
  },
  {
   "cell_type": "markdown",
   "metadata": {},
   "source": [
    "### Importing All Required Modules"
   ]
  },
  {
   "cell_type": "code",
   "execution_count": 727,
   "metadata": {},
   "outputs": [],
   "source": [
    "# All required packages\n",
    "%matplotlib inline \n",
    "import numpy as np\n",
    "import matplotlib.pyplot as plt\n",
    "import pandas as pd\n",
    "from sklearn import preprocessing\n",
    "from sklearn.model_selection import train_test_split\n",
    "from sklearn.metrics import accuracy_score, precision_score, recall_score, f1_score\n",
    "from sklearn.metrics import roc_curve, auc, confusion_matrix, classification_report\n",
    "from sklearn import tree \n",
    "from sklearn.ensemble import RandomForestClassifier\n",
    "from sklearn.model_selection import train_test_split\n",
    "import scipy.stats as ss\n",
    "from sklearn.neighbors import KNeighborsClassifier\n",
    "from sklearn.model_selection import learning_curve, GridSearchCV\n",
    "import time \n",
    "from operator import itemgetter\n",
    "import os\n",
    "from sklearn.model_selection import GridSearchCV\n",
    "from sklearn.tree import DecisionTreeClassifier, export_graphviz\n",
    "from sklearn import metrics"
   ]
  },
  {
   "cell_type": "markdown",
   "metadata": {},
   "source": [
    "### Data Transformation"
   ]
  },
  {
   "cell_type": "code",
   "execution_count": 728,
   "metadata": {},
   "outputs": [],
   "source": [
    "# perform data transformation\n",
    "for col in df.columns:\n",
    "\tattName = col\n",
    "\tdType = df[col].dtype\n",
    "\tmissing = pd.isnull(df[col]).any()\n",
    "\tuniqueCount = len(df[attName].value_counts(normalize=False))\n",
    "\t# discretize (create dummies)\n",
    "\tif dType == object:\n",
    "\t\tdf = pd.concat([df, pd.get_dummies(df[col], prefix=col)], axis=1)\n",
    "\t\tdel df[attName]"
   ]
  },
  {
   "cell_type": "code",
   "execution_count": 729,
   "metadata": {},
   "outputs": [
    {
     "data": {
      "text/html": [
       "<div>\n",
       "<style scoped>\n",
       "    .dataframe tbody tr th:only-of-type {\n",
       "        vertical-align: middle;\n",
       "    }\n",
       "\n",
       "    .dataframe tbody tr th {\n",
       "        vertical-align: top;\n",
       "    }\n",
       "\n",
       "    .dataframe thead th {\n",
       "        text-align: right;\n",
       "    }\n",
       "</style>\n",
       "<table border=\"1\" class=\"dataframe\">\n",
       "  <thead>\n",
       "    <tr style=\"text-align: right;\">\n",
       "      <th></th>\n",
       "      <th>SalePrice</th>\n",
       "      <th>LotFrontage</th>\n",
       "      <th>LotArea</th>\n",
       "      <th>OverallQual</th>\n",
       "      <th>OverallCond</th>\n",
       "      <th>YearBuilt</th>\n",
       "      <th>YearRemodAdd</th>\n",
       "      <th>MasVnrArea</th>\n",
       "      <th>BsmtFinSF1</th>\n",
       "      <th>BsmtFinSF2</th>\n",
       "      <th>...</th>\n",
       "      <th>SaleType_ConLw</th>\n",
       "      <th>SaleType_New</th>\n",
       "      <th>SaleType_Oth</th>\n",
       "      <th>SaleType_WD</th>\n",
       "      <th>SaleCondition_Abnorml</th>\n",
       "      <th>SaleCondition_AdjLand</th>\n",
       "      <th>SaleCondition_Alloca</th>\n",
       "      <th>SaleCondition_Family</th>\n",
       "      <th>SaleCondition_Normal</th>\n",
       "      <th>SaleCondition_Partial</th>\n",
       "    </tr>\n",
       "  </thead>\n",
       "  <tbody>\n",
       "    <tr>\n",
       "      <th>0</th>\n",
       "      <td>208500</td>\n",
       "      <td>65.0</td>\n",
       "      <td>8450</td>\n",
       "      <td>7</td>\n",
       "      <td>5</td>\n",
       "      <td>2003</td>\n",
       "      <td>2003</td>\n",
       "      <td>196.0</td>\n",
       "      <td>706</td>\n",
       "      <td>0</td>\n",
       "      <td>...</td>\n",
       "      <td>0</td>\n",
       "      <td>0</td>\n",
       "      <td>0</td>\n",
       "      <td>1</td>\n",
       "      <td>0</td>\n",
       "      <td>0</td>\n",
       "      <td>0</td>\n",
       "      <td>0</td>\n",
       "      <td>1</td>\n",
       "      <td>0</td>\n",
       "    </tr>\n",
       "    <tr>\n",
       "      <th>1</th>\n",
       "      <td>181500</td>\n",
       "      <td>80.0</td>\n",
       "      <td>9600</td>\n",
       "      <td>6</td>\n",
       "      <td>8</td>\n",
       "      <td>1976</td>\n",
       "      <td>1976</td>\n",
       "      <td>0.0</td>\n",
       "      <td>978</td>\n",
       "      <td>0</td>\n",
       "      <td>...</td>\n",
       "      <td>0</td>\n",
       "      <td>0</td>\n",
       "      <td>0</td>\n",
       "      <td>1</td>\n",
       "      <td>0</td>\n",
       "      <td>0</td>\n",
       "      <td>0</td>\n",
       "      <td>0</td>\n",
       "      <td>1</td>\n",
       "      <td>0</td>\n",
       "    </tr>\n",
       "    <tr>\n",
       "      <th>2</th>\n",
       "      <td>223500</td>\n",
       "      <td>68.0</td>\n",
       "      <td>11250</td>\n",
       "      <td>7</td>\n",
       "      <td>5</td>\n",
       "      <td>2001</td>\n",
       "      <td>2002</td>\n",
       "      <td>162.0</td>\n",
       "      <td>486</td>\n",
       "      <td>0</td>\n",
       "      <td>...</td>\n",
       "      <td>0</td>\n",
       "      <td>0</td>\n",
       "      <td>0</td>\n",
       "      <td>1</td>\n",
       "      <td>0</td>\n",
       "      <td>0</td>\n",
       "      <td>0</td>\n",
       "      <td>0</td>\n",
       "      <td>1</td>\n",
       "      <td>0</td>\n",
       "    </tr>\n",
       "  </tbody>\n",
       "</table>\n",
       "<p>3 rows × 285 columns</p>\n",
       "</div>"
      ],
      "text/plain": [
       "   SalePrice  LotFrontage  LotArea  OverallQual  OverallCond  YearBuilt  \\\n",
       "0     208500         65.0     8450            7            5       2003   \n",
       "1     181500         80.0     9600            6            8       1976   \n",
       "2     223500         68.0    11250            7            5       2001   \n",
       "\n",
       "   YearRemodAdd  MasVnrArea  BsmtFinSF1  BsmtFinSF2  ...  SaleType_ConLw  \\\n",
       "0          2003       196.0         706           0  ...               0   \n",
       "1          1976         0.0         978           0  ...               0   \n",
       "2          2002       162.0         486           0  ...               0   \n",
       "\n",
       "   SaleType_New  SaleType_Oth  SaleType_WD  SaleCondition_Abnorml  \\\n",
       "0             0             0            1                      0   \n",
       "1             0             0            1                      0   \n",
       "2             0             0            1                      0   \n",
       "\n",
       "   SaleCondition_AdjLand  SaleCondition_Alloca  SaleCondition_Family  \\\n",
       "0                      0                     0                     0   \n",
       "1                      0                     0                     0   \n",
       "2                      0                     0                     0   \n",
       "\n",
       "   SaleCondition_Normal  SaleCondition_Partial  \n",
       "0                     1                      0  \n",
       "1                     1                      0  \n",
       "2                     1                      0  \n",
       "\n",
       "[3 rows x 285 columns]"
      ]
     },
     "execution_count": 729,
     "metadata": {},
     "output_type": "execute_result"
    }
   ],
   "source": [
    "# Let's check first 3 rows after trasformation \n",
    "df[:3]\n",
    "# now, we have total 270 columns"
   ]
  },
  {
   "cell_type": "markdown",
   "metadata": {},
   "source": [
    "### Data Partition"
   ]
  },
  {
   "cell_type": "code",
   "execution_count": 730,
   "metadata": {},
   "outputs": [],
   "source": [
    "# separating target and features\n",
    "from sklearn.model_selection import train_test_split\n",
    "# splitting dataset into testing and training\n",
    "X_train, X_test, y_train, y_test = train_test_split(\n",
    "    df.iloc[:,1:].values, df.iloc[:,0].values, test_size=0.30, random_state=4)"
   ]
  },
  {
   "cell_type": "code",
   "execution_count": 731,
   "metadata": {},
   "outputs": [
    {
     "name": "stdout",
     "output_type": "stream",
     "text": [
      "(1022, 284)\n",
      "(1022,)\n",
      "(438, 284)\n",
      "(438,)\n"
     ]
    }
   ],
   "source": [
    "# let's see the datasets' dimension\n",
    "print(X_train.shape)\n",
    "print(y_train.shape)\n",
    "\n",
    "print(X_test.shape)\n",
    "print(y_test.shape)"
   ]
  },
  {
   "cell_type": "markdown",
   "metadata": {},
   "source": [
    "### Linear Regression Model"
   ]
  },
  {
   "cell_type": "code",
   "execution_count": 732,
   "metadata": {},
   "outputs": [],
   "source": [
    "# Linear Regression\n",
    "from sklearn.linear_model import LinearRegression\n",
    "# instantiating\n",
    "lin_reg = LinearRegression()\n",
    "# fitting\n",
    "lin_reg.fit(X_train, y_train)\n",
    "# predicting\n",
    "y_pred = lin_reg.predict(X_test)"
   ]
  },
  {
   "cell_type": "code",
   "execution_count": 733,
   "metadata": {},
   "outputs": [
    {
     "name": "stdout",
     "output_type": "stream",
     "text": [
      "Mean Absolute Error: 18174.963115799557\n",
      "Mean Squared Error: 690414553.1235\n",
      "Root Mean Squared Error: 26275.74077211716\n",
      "Linear regression R-squared\": 0.8708\n"
     ]
    }
   ],
   "source": [
    "# Mean absolute error(ME)\n",
    "print('Mean Absolute Error:', metrics.mean_absolute_error(y_test, y_pred))  \n",
    "# MSE\n",
    "print('Mean Squared Error:', metrics.mean_squared_error(y_test, y_pred))  \n",
    "#RMSE\n",
    "print('Root Mean Squared Error:', np.sqrt(metrics.mean_squared_error(y_test, y_pred)))\n",
    "\n",
    "# let's check r^2\n",
    "print('Linear regression R-squared\": %.4f' % lin_reg.score(X_test, y_test))\n"
   ]
  },
  {
   "cell_type": "markdown",
   "metadata": {},
   "source": [
    "So, in our model, 87% of the variability in Y can be explained using X. \n",
    "This looks good!\n",
    "Linear regression model was able to predict the value of every house in the test set within $26275 of the real price."
   ]
  },
  {
   "cell_type": "markdown",
   "metadata": {},
   "source": [
    "### Random Forest Models"
   ]
  },
  {
   "cell_type": "code",
   "execution_count": 734,
   "metadata": {},
   "outputs": [],
   "source": [
    "# Let's try Random Forest model\n",
    "from sklearn.ensemble import RandomForestRegressor\n",
    "from sklearn import metrics\n",
    "RfModel = RandomForestRegressor(random_state=1, max_depth=10)\n",
    "# fitting the model\n",
    "RfModel.fit(X_train,y_train)\n",
    "# make predictions\n",
    "y_pred = RfModel.predict(X_test)"
   ]
  },
  {
   "cell_type": "code",
   "execution_count": 735,
   "metadata": {},
   "outputs": [
    {
     "name": "stdout",
     "output_type": "stream",
     "text": [
      "Mean Absolute Error: 17986.09720031596\n",
      "Mean Squared Error: 691374584.3157388\n",
      "Root Mean Squared Error: 26294.002820334124\n",
      "Random Forest R squared\": 0.8706\n"
     ]
    }
   ],
   "source": [
    "# Mean absolute error(ME)\n",
    "print('Mean Absolute Error:', metrics.mean_absolute_error(y_test, y_pred))  \n",
    "# MSE\n",
    "print('Mean Squared Error:', metrics.mean_squared_error(y_test, y_pred))  \n",
    "#RMSE\n",
    "print('Root Mean Squared Error:', np.sqrt(metrics.mean_squared_error(y_test, y_pred)))\n",
    "\n",
    "# let's check r^2\n",
    "print('Random Forest R squared\": %.4f' % RfModel.score(X_test, y_test))\n"
   ]
  },
  {
   "cell_type": "markdown",
   "metadata": {},
   "source": [
    "R^2 is as good as linear model!, let's see the important features"
   ]
  },
  {
   "cell_type": "code",
   "execution_count": 736,
   "metadata": {},
   "outputs": [
    {
     "data": {
      "image/png": "[encoded data removed]",
      "text/plain": [
       "<Figure size 432x288 with 1 Axes>"
      ]
     },
     "metadata": {
      "needs_background": "light"
     },
     "output_type": "display_data"
    }
   ],
   "source": [
    "# Finding the most important features\n",
    "# storing all feature names\n",
    "feature_names = df.columns[1:]\n",
    "#feature_names\n",
    "importances = RfModel.feature_importances_\n",
    "indices = np.argsort(importances)[-9:]  # top 10 features\n",
    "plt.title('Feature Importances')\n",
    "plt.barh(range(len(indices)), importances[indices], color='b', align='center')\n",
    "plt.yticks(range(len(indices)), [feature_names[i] for i in indices])\n",
    "plt.xlabel('Relative Importance')\n",
    "plt.show()"
   ]
  },
  {
   "cell_type": "markdown",
   "metadata": {},
   "source": [
    "Based on the above graph, we can hand pick the top-most features to reduce the dimensionality in our dataset."
   ]
  },
  {
   "cell_type": "code",
   "execution_count": 737,
   "metadata": {},
   "outputs": [
    {
     "data": {
      "text/html": [
       "<div>\n",
       "<style scoped>\n",
       "    .dataframe tbody tr th:only-of-type {\n",
       "        vertical-align: middle;\n",
       "    }\n",
       "\n",
       "    .dataframe tbody tr th {\n",
       "        vertical-align: top;\n",
       "    }\n",
       "\n",
       "    .dataframe thead th {\n",
       "        text-align: right;\n",
       "    }\n",
       "</style>\n",
       "<table border=\"1\" class=\"dataframe\">\n",
       "  <thead>\n",
       "    <tr style=\"text-align: right;\">\n",
       "      <th></th>\n",
       "      <th>importance</th>\n",
       "    </tr>\n",
       "  </thead>\n",
       "  <tbody>\n",
       "    <tr>\n",
       "      <th>OverallQual</th>\n",
       "      <td>0.525140</td>\n",
       "    </tr>\n",
       "    <tr>\n",
       "      <th>GrLivArea</th>\n",
       "      <td>0.114794</td>\n",
       "    </tr>\n",
       "    <tr>\n",
       "      <th>TotalBsmtSF</th>\n",
       "      <td>0.069322</td>\n",
       "    </tr>\n",
       "    <tr>\n",
       "      <th>GarageCars</th>\n",
       "      <td>0.031417</td>\n",
       "    </tr>\n",
       "    <tr>\n",
       "      <th>BsmtFinSF1</th>\n",
       "      <td>0.028634</td>\n",
       "    </tr>\n",
       "    <tr>\n",
       "      <th>TotRmsAbvGrd</th>\n",
       "      <td>0.024426</td>\n",
       "    </tr>\n",
       "    <tr>\n",
       "      <th>2ndFlrSF</th>\n",
       "      <td>0.021874</td>\n",
       "    </tr>\n",
       "    <tr>\n",
       "      <th>1stFlrSF</th>\n",
       "      <td>0.020929</td>\n",
       "    </tr>\n",
       "    <tr>\n",
       "      <th>FullBath</th>\n",
       "      <td>0.014273</td>\n",
       "    </tr>\n",
       "    <tr>\n",
       "      <th>LotArea</th>\n",
       "      <td>0.013519</td>\n",
       "    </tr>\n",
       "  </tbody>\n",
       "</table>\n",
       "</div>"
      ],
      "text/plain": [
       "              importance\n",
       "OverallQual     0.525140\n",
       "GrLivArea       0.114794\n",
       "TotalBsmtSF     0.069322\n",
       "GarageCars      0.031417\n",
       "BsmtFinSF1      0.028634\n",
       "TotRmsAbvGrd    0.024426\n",
       "2ndFlrSF        0.021874\n",
       "1stFlrSF        0.020929\n",
       "FullBath        0.014273\n",
       "LotArea         0.013519"
      ]
     },
     "execution_count": 737,
     "metadata": {},
     "output_type": "execute_result"
    }
   ],
   "source": [
    "# Let's see important features in tabular form\n",
    "import pandas as pd\n",
    "feature_importances = pd.DataFrame(RfModel.feature_importances_,index =  df.columns[1:],\n",
    "                                    columns=['importance']).sort_values('importance',ascending=False)\n",
    "feature_importances[:10]"
   ]
  },
  {
   "cell_type": "code",
   "execution_count": 738,
   "metadata": {},
   "outputs": [],
   "source": [
    "df2 = df[['SalePrice','OverallQual','GrLivArea','TotalBsmtSF','GarageCars','BsmtFinSF1','TotRmsAbvGrd','1stFlrSF','MasVnrArea','LotArea']].copy()\n",
    "X2 = df2.iloc[:,1:].values \n",
    "#X2\n",
    "y2=df2.iloc[:,0].values\n",
    "# Partitioning the data with 80/20 split\n",
    "from sklearn.model_selection import train_test_split\n",
    "X2_train, X2_test, y2_train, y2_test = train_test_split(X2, y2, test_size=0.2, random_state=0)"
   ]
  },
  {
   "cell_type": "code",
   "execution_count": 739,
   "metadata": {},
   "outputs": [],
   "source": [
    "# this model contains all important features only with the same parameters as above\n",
    "from sklearn.ensemble import RandomForestRegressor\n",
    "RfModel2 = RandomForestRegressor(random_state=1, max_depth=10)\n",
    "# fitting the model\n",
    "RfModel2.fit(X2_train,y2_train)\n",
    "# making predictions\n",
    "y_pred2 = RfModel2.predict(X2_test)"
   ]
  },
  {
   "cell_type": "code",
   "execution_count": 740,
   "metadata": {},
   "outputs": [
    {
     "name": "stdout",
     "output_type": "stream",
     "text": [
      "Mean Absolute Error: 20444.173868350685\n",
      "Mean Squared Error: 1159512331.6421642\n",
      "Root Mean Squared Error: 34051.612761250595\n",
      "Random Forest R squared\": 0.8321\n"
     ]
    }
   ],
   "source": [
    "# Evaluating the algorithm\n",
    "from sklearn import metrics\n",
    "\n",
    "print('Mean Absolute Error:', metrics.mean_absolute_error(y2_test, y_pred2))  \n",
    "print('Mean Squared Error:', metrics.mean_squared_error(y2_test, y_pred2))  \n",
    "print('Root Mean Squared Error:', np.sqrt(metrics.mean_squared_error(y2_test, y_pred2)))\n",
    "# let's check r^2\n",
    "print('Random Forest R squared\": %.4f' % RfModel2.score(X2_test, y2_test))"
   ]
  },
  {
   "cell_type": "markdown",
   "metadata": {},
   "source": [
    "With R^2 = 83%, we observed that training model with only important features did not improve the model."
   ]
  },
  {
   "cell_type": "code",
   "execution_count": 741,
   "metadata": {},
   "outputs": [],
   "source": [
    "# Now, trying with 100 estimators\n",
    "from sklearn.ensemble import RandomForestRegressor\n",
    "RfModel3 = RandomForestRegressor(n_estimators=100, random_state=0)  \n",
    "# Fitting the model\n",
    "RfModel3.fit(X_train, y_train) \n",
    "# making predictions\n",
    "y_pred3 = RfModel3.predict(X_test)"
   ]
  },
  {
   "cell_type": "code",
   "execution_count": 743,
   "metadata": {},
   "outputs": [
    {
     "name": "stdout",
     "output_type": "stream",
     "text": [
      "Mean Absolute Error: 16374.952237442923\n",
      "Mean Squared Error: 578259992.3970228\n",
      "Root Mean Squared Error: 24047.03708145814\n",
      "Random Forest R squared\": 0.8918\n"
     ]
    }
   ],
   "source": [
    "# Evaluating the algorithm\n",
    "from sklearn import metrics\n",
    "print('Mean Absolute Error:', metrics.mean_absolute_error(y_test, y_pred3))  \n",
    "print('Mean Squared Error:', metrics.mean_squared_error(y_test, y_pred3))  \n",
    "print('Root Mean Squared Error:', np.sqrt(metrics.mean_squared_error(y_test, y_pred3)))\n",
    "# let's check r^2\n",
    "print('Random Forest R squared\": %.4f' % RfModel3.score(X_test, y_test))"
   ]
  },
  {
   "cell_type": "markdown",
   "metadata": {},
   "source": [
    "R^2 looks better than previous 3 models!"
   ]
  },
  {
   "cell_type": "code",
   "execution_count": 783,
   "metadata": {},
   "outputs": [],
   "source": [
    "# Can we better than this,trying again with 200 estimators\n",
    "from sklearn.ensemble import RandomForestRegressor\n",
    "# instantiating\n",
    "RfModel4 = RandomForestRegressor(n_estimators=200, random_state=0) \n",
    "# fitting\n",
    "RfModel4.fit(X_train, y_train)  \n",
    "# predicting\n",
    "y_pred4 = RfModel4.predict(X_test)"
   ]
  },
  {
   "cell_type": "code",
   "execution_count": 784,
   "metadata": {},
   "outputs": [
    {
     "name": "stdout",
     "output_type": "stream",
     "text": [
      "Mean Absolute Error: 16333.20928082192\n",
      "Mean Squared Error: 578440650.864092\n",
      "Root Mean Squared Error: 24050.793144179093\n",
      "Random Forest R squared\": 0.8917\n"
     ]
    }
   ],
   "source": [
    "# Evaluating \n",
    "from sklearn import metrics\n",
    "\n",
    "print('Mean Absolute Error:', metrics.mean_absolute_error(y_test, y_pred4))  \n",
    "print('Mean Squared Error:', metrics.mean_squared_error(y_test, y_pred4))  \n",
    "print('Root Mean Squared Error:', np.sqrt(metrics.mean_squared_error(y_test, y_pred4)))\n",
    "print('Random Forest R squared\": %.4f' % RfModel4.score(X_test, y_test))"
   ]
  },
  {
   "cell_type": "markdown",
   "metadata": {},
   "source": [
    "Hmmm...this isn't improving the model, same as previous model\n",
    "let's check more..."
   ]
  },
  {
   "cell_type": "code",
   "execution_count": 785,
   "metadata": {},
   "outputs": [
    {
     "name": "stdout",
     "output_type": "stream",
     "text": [
      "Average coefficient of determination using 5-fold cross-validation: 0.8228578895666979\n"
     ]
    }
   ],
   "source": [
    "from sklearn.model_selection import *\n",
    "scores = cross_val_score(RfModel4, X_train, y_train, cv=5)\n",
    "print(\"Average coefficient of determination using 5-fold cross-validation:\",np.mean(scores))"
   ]
  },
  {
   "cell_type": "code",
   "execution_count": 780,
   "metadata": {},
   "outputs": [],
   "source": [
    "# Trying with 500 estimators\n",
    "from sklearn.ensemble import RandomForestRegressor\n",
    "\n",
    "RfModel5 = RandomForestRegressor(n_estimators=500, random_state=42)  \n",
    "RfModel5.fit(X_train, y_train)  \n",
    "y_pred5 = RfModel5.predict(X_test)"
   ]
  },
  {
   "cell_type": "code",
   "execution_count": 781,
   "metadata": {},
   "outputs": [
    {
     "name": "stdout",
     "output_type": "stream",
     "text": [
      "Mean Absolute Error: 16341.445789954336\n",
      "Mean Squared Error: 569224761.7096522\n",
      "Root Mean Squared Error: 23858.431669111284\n",
      "Random Forest R squared\": 0.8934\n"
     ]
    }
   ],
   "source": [
    "# Evaluating the algorithm\n",
    "from sklearn import metrics\n",
    "\n",
    "print('Mean Absolute Error:', metrics.mean_absolute_error(y_test, y_pred5))  \n",
    "print('Mean Squared Error:', metrics.mean_squared_error(y_test, y_pred5))  \n",
    "print('Root Mean Squared Error:', np.sqrt(metrics.mean_squared_error(y_test, y_pred5)))\n",
    "print('Random Forest R squared\": %.4f' % RfModel5.score(X_test, y_test))"
   ]
  },
  {
   "cell_type": "markdown",
   "metadata": {},
   "source": [
    "Now, again R^2 is around as all the above models !"
   ]
  },
  {
   "cell_type": "code",
   "execution_count": 782,
   "metadata": {},
   "outputs": [
    {
     "name": "stdout",
     "output_type": "stream",
     "text": [
      "Average coefficient of determination using 5-fold cross-validation: 0.8240182401843181\n"
     ]
    }
   ],
   "source": [
    "from sklearn.model_selection import *\n",
    "scores = cross_val_score(RfModel5, X_train, y_train, cv=5)\n",
    "print(\"Average coefficient of determination using 5-fold cross-validation:\",np.mean(scores))"
   ]
  },
  {
   "cell_type": "code",
   "execution_count": 748,
   "metadata": {},
   "outputs": [],
   "source": [
    "# Trying with 1000 estimators\n",
    "from sklearn.ensemble import RandomForestRegressor\n",
    "\n",
    "RfModel6 = RandomForestRegressor(n_estimators=1000, random_state=0)  \n",
    "RfModel6.fit(X_train, y_train)  \n",
    "y_pred6 = RfModel6.predict(X_test)"
   ]
  },
  {
   "cell_type": "code",
   "execution_count": 749,
   "metadata": {},
   "outputs": [
    {
     "name": "stdout",
     "output_type": "stream",
     "text": [
      "Mean Absolute Error: 16341.423433789954\n",
      "Mean Squared Error: 573239976.5633161\n",
      "Root Mean Squared Error: 23942.430464832014\n",
      "Random Forest R squared: 1.0000\n"
     ]
    }
   ],
   "source": [
    "# Evaluating the algorithm\n",
    "from sklearn import metrics\n",
    "\n",
    "print('Mean Absolute Error:', metrics.mean_absolute_error(y_test, y_pred6))  \n",
    "print('Mean Squared Error:', metrics.mean_squared_error(y_test, y_pred6))  \n",
    "print('Root Mean Squared Error:', np.sqrt(metrics.mean_squared_error(y_test, y_pred6)))\n",
    "print('Random Forest R squared: %.4f' % RfModel6.score(X_test, y_pred6))"
   ]
  },
  {
   "cell_type": "markdown",
   "metadata": {},
   "source": [
    "This looks really good...100% , is it too good to be true!\n",
    "If R^2==1 then model is probably being overfit.To choose a better model, we take high R^2 or a low RMSE.\n",
    "For MSE, the smaller it is, the closer the model prediction is to the actual data. So basically, either a high R2 or a low MSE.(https://stats.stackexchange.com/questions/100281/selecting-the-best-model-using-cross-validation-on-coefficient-of-determination )\n",
    "Let's check overfitting using CV=5"
   ]
  },
  {
   "cell_type": "code",
   "execution_count": 750,
   "metadata": {},
   "outputs": [
    {
     "name": "stdout",
     "output_type": "stream",
     "text": [
      "Average coefficient of determination using 5-fold cross-validation: 0.8252415311903791\n"
     ]
    }
   ],
   "source": [
    "from sklearn.model_selection import *\n",
    "scores = cross_val_score(RfModel6, X_train, y_train, cv=5)\n",
    "print(\"Average coefficient of determination using 5-fold cross-validation:\",np.mean(scores))"
   ]
  },
  {
   "cell_type": "markdown",
   "metadata": {},
   "source": [
    "Cross-validated average R^2 is around 83% which is 17 points further from train/split model R^2.It's overfitiing."
   ]
  },
  {
   "cell_type": "markdown",
   "metadata": {},
   "source": [
    "\n",
    "### Gradient Boosting Models"
   ]
  },
  {
   "cell_type": "code",
   "execution_count": 751,
   "metadata": {},
   "outputs": [],
   "source": [
    "# Feature Scaling\n",
    "from sklearn.preprocessing import StandardScaler\n",
    "\n",
    "sc = StandardScaler()  \n",
    "X_train = sc.fit_transform(X_train)  \n",
    "X_test = sc.transform(X_test)"
   ]
  },
  {
   "cell_type": "code",
   "execution_count": 758,
   "metadata": {},
   "outputs": [
    {
     "data": {
      "text/plain": [
       "GradientBoostingRegressor(alpha=0.9, criterion='friedman_mse', init=None,\n",
       "             learning_rate=0.1, loss='ls', max_depth=3, max_features=None,\n",
       "             max_leaf_nodes=None, min_impurity_decrease=0.0,\n",
       "             min_impurity_split=None, min_samples_leaf=1,\n",
       "             min_samples_split=2, min_weight_fraction_leaf=0.0,\n",
       "             n_estimators=100, n_iter_no_change=None, presort='auto',\n",
       "             random_state=0, subsample=1.0, tol=0.0001,\n",
       "             validation_fraction=0.1, verbose=0, warm_start=False)"
      ]
     },
     "execution_count": 758,
     "metadata": {},
     "output_type": "execute_result"
    }
   ],
   "source": [
    "# training GB with default settings\n",
    "from sklearn import ensemble\n",
    "from sklearn.ensemble import GradientBoostingRegressor\n",
    "GDR_model = ensemble.GradientBoostingRegressor(random_state=0)\n",
    "GDR_model.fit(X_train, y_train)"
   ]
  },
  {
   "cell_type": "code",
   "execution_count": 759,
   "metadata": {},
   "outputs": [
    {
     "name": "stdout",
     "output_type": "stream",
     "text": [
      "Mean Absolute Error: 15329.556196264411\n",
      "Mean Squared Error: 503380144.68989414\n",
      "GDR Root Mean Squared Error: 22436.134798353618\n",
      "Gradient Boosting R squared\": 0.9058\n"
     ]
    }
   ],
   "source": [
    "\n",
    "# Evaluating the algorithm\n",
    "from sklearn import metrics\n",
    "y_pred_GDR = GDR_model.predict(X_test)\n",
    "#model_mse = mean_squared_error(y_pred_GDR, y_test)\n",
    "#model_rmse = np.sqrt(model_mse)\n",
    "\n",
    "print('Mean Absolute Error:', metrics.mean_absolute_error(y_test, y_pred_GDR))  \n",
    "print('Mean Squared Error:', metrics.mean_squared_error(y_test, y_pred_GDR)) \n",
    "#print('Gradient Boosting RMSE: %.4f' % model_rmse)\n",
    "print('GDR Root Mean Squared Error:', np.sqrt(metrics.mean_squared_error(y_test, y_pred_GDR)))\n",
    "print('Gradient Boosting R squared\": %.4f' % GDR_model.score(X_test, y_test))"
   ]
  },
  {
   "cell_type": "markdown",
   "metadata": {},
   "source": [
    " R^= 90% looks promising! \n",
    "Here, we have good R^2 and comparatively low MSE too!"
   ]
  },
  {
   "cell_type": "code",
   "execution_count": 760,
   "metadata": {},
   "outputs": [
    {
     "name": "stdout",
     "output_type": "stream",
     "text": [
      "Average coefficient of determination using 5-fold cross-validation: 0.8229515474549756\n"
     ]
    }
   ],
   "source": [
    "from sklearn.model_selection import *\n",
    "scores = cross_val_score(GDR_model, X_train, y_train, cv=5)\n",
    "print(\"Average coefficient of determination using 5-fold cross-validation:\",np.mean(scores))"
   ]
  },
  {
   "cell_type": "markdown",
   "metadata": {},
   "source": [
    "Hmmm....cross-validated average R^2 is 82%, quite lower than train/test split model, overfitting again."
   ]
  },
  {
   "cell_type": "code",
   "execution_count": 762,
   "metadata": {},
   "outputs": [
    {
     "data": {
      "image/png": "[encoded data removed]",
      "text/plain": [
       "<Figure size 432x288 with 1 Axes>"
      ]
     },
     "metadata": {
      "needs_background": "light"
     },
     "output_type": "display_data"
    }
   ],
   "source": [
    "# let's see the most important features\n",
    "# storing all feature names\n",
    "feature_names = df.columns[1:]\n",
    "#feature_names\n",
    "importances = GDR_model.feature_importances_\n",
    "indices = np.argsort(importances)[-9:]  # top 10 features\n",
    "plt.title('Feature Importances')\n",
    "plt.barh(range(len(indices)), importances[indices], color='b', align='center')\n",
    "plt.yticks(range(len(indices)), [feature_names[i] for i in indices])\n",
    "plt.xlabel('Relative Importance')\n",
    "plt.show()"
   ]
  },
  {
   "cell_type": "code",
   "execution_count": 763,
   "metadata": {},
   "outputs": [
    {
     "data": {
      "text/html": [
       "<div>\n",
       "<style scoped>\n",
       "    .dataframe tbody tr th:only-of-type {\n",
       "        vertical-align: middle;\n",
       "    }\n",
       "\n",
       "    .dataframe tbody tr th {\n",
       "        vertical-align: top;\n",
       "    }\n",
       "\n",
       "    .dataframe thead th {\n",
       "        text-align: right;\n",
       "    }\n",
       "</style>\n",
       "<table border=\"1\" class=\"dataframe\">\n",
       "  <thead>\n",
       "    <tr style=\"text-align: right;\">\n",
       "      <th></th>\n",
       "      <th>importance</th>\n",
       "    </tr>\n",
       "  </thead>\n",
       "  <tbody>\n",
       "    <tr>\n",
       "      <th>OverallQual</th>\n",
       "      <td>0.456831</td>\n",
       "    </tr>\n",
       "    <tr>\n",
       "      <th>GrLivArea</th>\n",
       "      <td>0.122386</td>\n",
       "    </tr>\n",
       "    <tr>\n",
       "      <th>GarageCars</th>\n",
       "      <td>0.060681</td>\n",
       "    </tr>\n",
       "    <tr>\n",
       "      <th>TotalBsmtSF</th>\n",
       "      <td>0.055530</td>\n",
       "    </tr>\n",
       "    <tr>\n",
       "      <th>2ndFlrSF</th>\n",
       "      <td>0.046440</td>\n",
       "    </tr>\n",
       "    <tr>\n",
       "      <th>BsmtFinSF1</th>\n",
       "      <td>0.040051</td>\n",
       "    </tr>\n",
       "    <tr>\n",
       "      <th>1stFlrSF</th>\n",
       "      <td>0.027043</td>\n",
       "    </tr>\n",
       "    <tr>\n",
       "      <th>BsmtQual_Ex</th>\n",
       "      <td>0.022525</td>\n",
       "    </tr>\n",
       "    <tr>\n",
       "      <th>TotRmsAbvGrd</th>\n",
       "      <td>0.018315</td>\n",
       "    </tr>\n",
       "    <tr>\n",
       "      <th>FullBath</th>\n",
       "      <td>0.013075</td>\n",
       "    </tr>\n",
       "  </tbody>\n",
       "</table>\n",
       "</div>"
      ],
      "text/plain": [
       "              importance\n",
       "OverallQual     0.456831\n",
       "GrLivArea       0.122386\n",
       "GarageCars      0.060681\n",
       "TotalBsmtSF     0.055530\n",
       "2ndFlrSF        0.046440\n",
       "BsmtFinSF1      0.040051\n",
       "1stFlrSF        0.027043\n",
       "BsmtQual_Ex     0.022525\n",
       "TotRmsAbvGrd    0.018315\n",
       "FullBath        0.013075"
      ]
     },
     "execution_count": 763,
     "metadata": {},
     "output_type": "execute_result"
    }
   ],
   "source": [
    "# Let's see important features in tabular form\n",
    "import pandas as pd\n",
    "feature_importances = pd.DataFrame(GDR_model.feature_importances_,index =  df.columns[1:],\n",
    "                                    columns=['importance']).sort_values('importance',ascending=False)\n",
    "feature_importances[:10]"
   ]
  },
  {
   "cell_type": "markdown",
   "metadata": {},
   "source": [
    "Important features are the same as we got from random forest model but importance value was more in random forest than the Gradient "
   ]
  },
  {
   "cell_type": "markdown",
   "metadata": {},
   "source": [
    "### Extra  Trees Model"
   ]
  },
  {
   "cell_type": "code",
   "execution_count": 764,
   "metadata": {},
   "outputs": [],
   "source": [
    "import warnings\n",
    "warnings.filterwarnings('ignore')\n",
    "from sklearn.model_selection import *\n",
    "def train_and_evaluate(reg, X_train, y_train):\n",
    "    \n",
    "    reg.fit(X_train, y_train)\n",
    "    \n",
    "    print(\"Coefficient of determination on training set:\",reg.score(X_train, y_train))\n",
    "    \n",
    "    # create a k-fold croos validation iterator of k=5 folds\n",
    "    scores = cross_val_score(reg, X_train, y_train, cv=5)\n",
    "    print(\"Average coefficient of determination using 5-fold cross-validation:\",np.mean(scores))"
   ]
  },
  {
   "cell_type": "code",
   "execution_count": 765,
   "metadata": {},
   "outputs": [
    {
     "name": "stdout",
     "output_type": "stream",
     "text": [
      "Coefficient of determination on training set: 1.0\n",
      "Average coefficient of determination using 5-fold cross-validation: 0.8117257025397182\n"
     ]
    }
   ],
   "source": [
    "from sklearn import ensemble\n",
    "reg_et=ensemble.ExtraTreesRegressor(n_estimators=10,random_state=42)\n",
    "train_and_evaluate(reg_et,X_train,y_train)"
   ]
  },
  {
   "cell_type": "code",
   "execution_count": 766,
   "metadata": {},
   "outputs": [
    {
     "name": "stdout",
     "output_type": "stream",
     "text": [
      "Mean Absolute Error: 18107.89497716895\n",
      "Mean Squared Error: 798298134.2332877\n",
      "Root Mean Squared Error: 26294.002820334124\n",
      "Gradient Boosting R squared\": 0.8506\n"
     ]
    }
   ],
   "source": [
    "from sklearn import ensemble\n",
    "reg_et=ensemble.ExtraTreesRegressor(n_estimators=10,random_state=42)\n",
    "#train_and_evaluate(reg_et,X_train,y_train)\n",
    "reg_et.fit(X_train, y_train)\n",
    "y_pred_et = reg_et.predict(X_test)\n",
    "print('Mean Absolute Error:', metrics.mean_absolute_error(y_test, y_pred_et))  \n",
    "print('Mean Squared Error:', metrics.mean_squared_error(y_test, y_pred_et))  \n",
    "print('Root Mean Squared Error:', np.sqrt(metrics.mean_squared_error(y_test, y_pred)))\n",
    "print('Gradient Boosting R squared\": %.4f' % reg_et.score(X_test, y_test))"
   ]
  },
  {
   "cell_type": "code",
   "execution_count": 767,
   "metadata": {},
   "outputs": [
    {
     "name": "stdout",
     "output_type": "stream",
     "text": [
      "Average coefficient of determination using 5-fold cross-validation: 0.8117257025397182\n"
     ]
    }
   ],
   "source": [
    "scores = cross_val_score(reg_et, X_train, y_train, cv=5)\n",
    "print(\"Average coefficient of determination using 5-fold cross-validation:\",np.mean(scores))"
   ]
  },
  {
   "cell_type": "markdown",
   "metadata": {},
   "source": [
    "This looks good with almost consistent R^2 in both ways, just 4 points away"
   ]
  },
  {
   "cell_type": "markdown",
   "metadata": {},
   "source": [
    "### Ridge Model"
   ]
  },
  {
   "cell_type": "code",
   "execution_count": 774,
   "metadata": {},
   "outputs": [
    {
     "name": "stdout",
     "output_type": "stream",
     "text": [
      "Mean Absolute Error: 18017.711787037028\n",
      "Mean Squared Error: 649831232.111586\n",
      "Root Mean Squared Error: 25491.7875424927\n",
      "Ridge Regression R squared\": 0.8784\n"
     ]
    }
   ],
   "source": [
    "# Ridge Regression\n",
    "import numpy as np\n",
    "from sklearn import datasets\n",
    "from sklearn.linear_model import Ridge\n",
    "# load the diabetes datasets\n",
    "#dataset = datasets.load_diabetes()\n",
    "# fit a ridge regression model to the data\n",
    "R_model = Ridge(alpha=0.1,random_state=42)\n",
    "R_model.fit(X_train, y_train)\n",
    "#print(model)\n",
    "# make predictions\n",
    "R_predicted = R_model.predict(X_test)\n",
    "# summarize the fit of the model\n",
    "print('Mean Absolute Error:', metrics.mean_absolute_error(y_test, R_predicted)) \n",
    "print('Mean Squared Error:', metrics.mean_squared_error(y_test, R_predicted))\n",
    "print('Root Mean Squared Error:', np.sqrt(metrics.mean_squared_error(y_test, R_predicted)))\n",
    "print('Ridge Regression R squared\": %.4f' % R_model.score(X_test, y_test))"
   ]
  },
  {
   "cell_type": "code",
   "execution_count": 775,
   "metadata": {},
   "outputs": [
    {
     "name": "stdout",
     "output_type": "stream",
     "text": [
      "Average coefficient of determination using 5-fold cross-validation: 0.7196982740424532\n"
     ]
    }
   ],
   "source": [
    "scores = cross_val_score(R_model, X_train, y_train, cv=5)\n",
    "print(\"Average coefficient of determination using 5-fold cross-validation:\",np.mean(scores))"
   ]
  },
  {
   "cell_type": "markdown",
   "metadata": {},
   "source": [
    "Average R^2 cross-validated value has decreased by 16 points"
   ]
  },
  {
   "cell_type": "markdown",
   "metadata": {},
   "source": [
    "### Lasso Model"
   ]
  },
  {
   "cell_type": "code",
   "execution_count": 776,
   "metadata": {},
   "outputs": [
    {
     "name": "stdout",
     "output_type": "stream",
     "text": [
      "Mean Absolute Error: 17926.35580831423\n",
      "Mean Squared Error: 636035097.5746531\n",
      "Root Mean Squared Error: 25219.736270917925\n",
      "Ridge Regression R squared\": 0.8809\n"
     ]
    }
   ],
   "source": [
    "# Lasso Regression\n",
    "# fit a LASSO model to the data\n",
    "from sklearn.linear_model import Lasso\n",
    "L_model = Lasso(alpha=0.1,random_state=42)\n",
    "L_model.fit(X_train, y_train)\n",
    "#print(L_model)\n",
    "# make predictions\n",
    "L_predicted = L_model.predict(X_test)\n",
    "# summarize the fit of the model\n",
    "print('Mean Absolute Error:', metrics.mean_absolute_error(y_test, L_predicted)) \n",
    "print('Mean Squared Error:', metrics.mean_squared_error(y_test, L_predicted))\n",
    "print('Root Mean Squared Error:', np.sqrt(metrics.mean_squared_error(y_test, L_predicted)))\n",
    "print('Ridge Regression R squared\": %.4f' % L_model.score(X_test, y_test))"
   ]
  },
  {
   "cell_type": "code",
   "execution_count": 777,
   "metadata": {},
   "outputs": [
    {
     "name": "stdout",
     "output_type": "stream",
     "text": [
      "Average coefficient of determination using 5-fold cross-validation: 0.7172175099016282\n"
     ]
    }
   ],
   "source": [
    "scores = cross_val_score(L_model, X_train, y_train, cv=5)\n",
    "print(\"Average coefficient of determination using 5-fold cross-validation:\",np.mean(scores))"
   ]
  },
  {
   "cell_type": "markdown",
   "metadata": {},
   "source": [
    "### Elastic Net Model"
   ]
  },
  {
   "cell_type": "code",
   "execution_count": 778,
   "metadata": {},
   "outputs": [
    {
     "name": "stdout",
     "output_type": "stream",
     "text": [
      "Mean Absolute Error: 16873.85854134358\n",
      "Mean Squared Error: 568737718.2360309\n",
      "Root Mean Squared Error: 23848.222538294776\n",
      "Ridge Regression R squared\": 0.8935\n"
     ]
    }
   ],
   "source": [
    "# ElasticNet Regression\n",
    "# fit a model to the data\n",
    "from sklearn.linear_model import ElasticNet\n",
    "ET_model = ElasticNet(alpha=0.1,random_state=42)\n",
    "ET_model.fit(X_train, y_train)\n",
    "#print(model)\n",
    "# make predictions\n",
    "ET_predicted = ET_model.predict(X_test)\n",
    "# summarize the fit of the model\n",
    "print('Mean Absolute Error:', metrics.mean_absolute_error(y_test, ET_predicted)) \n",
    "print('Mean Squared Error:', metrics.mean_squared_error(y_test, ET_predicted))\n",
    "print('Root Mean Squared Error:', np.sqrt(metrics.mean_squared_error(y_test, ET_predicted)))\n",
    "print('Ridge Regression R squared\": %.4f' % ET_model.score(X_test, y_test))"
   ]
  },
  {
   "cell_type": "code",
   "execution_count": 779,
   "metadata": {},
   "outputs": [
    {
     "name": "stdout",
     "output_type": "stream",
     "text": [
      "Average coefficient of determination using 5-fold cross-validation: 0.7493710601818953\n"
     ]
    }
   ],
   "source": [
    "scores = cross_val_score(ET_model, X_train, y_train, cv=5)\n",
    "print(\"Average coefficient of determination using 5-fold cross-validation:\",np.mean(scores))"
   ]
  },
  {
   "cell_type": "markdown",
   "metadata": {},
   "source": [
    "## Conclusion:  \n",
    "After running various training models and evaluating the testing model, difficult to choose when many showing overfitting.\n",
    "\n",
    "After analyzing all results,Gradient Boosting model looked promising with average cross-validated R^2=82% and low MSEas well. Based on the logic of \"Select either a high R2 or a low MSE\".\n",
    "We can see that 82% of the variability in Y can be explained using X if we use gradient boosting model.Moreover, MSE value is lowest in this model as compared all other models and we know that the smaller MSE is, the closer the model prediction is to the actual data.Therefore, I'll select Gradient Boosting Model as my best model !"
   ]
  },
  {
   "cell_type": "markdown",
   "metadata": {},
   "source": [
    "## Part-2\n",
    "Here, I fetched both train and test csv files and concatenated them. Then, I performed all preprocessing that I did in Part-1 and Trained the models afterwards. In part-2, I took only those regression methods that performed really well in Part-1.\n",
    "Started with gradient boosting, Random Forest,Random Forest with important features, Extra Trees, Ridge and lastly elastic net algorithm.\n",
    "I found that RMSE and R^2 were quite different in part-2 and lower too.\n",
    "\n",
    "I chose Random Forest as my best model with R^2= 34% and average coefficient of determination using 5-fold cross-validation is 30%. In this model, only 34% of the variability in Y can be explained using X and the Model was able to predict the value of every house in the test set within $50801 of the real price.\n",
    "As per the important features of the random forest model,  'OverallQual','GrLivArea','TotRmsAbvGrd','TotalBsmtSF','GarageArea','LotArea','BsmtUnfSF' are really impacting the sale price of the house.\n",
    "The score isn't satisfying one but I'd take it for now. Next time, I'd try to remove the outliers from the data and then train the models."
   ]
  },
  {
   "cell_type": "markdown",
   "metadata": {},
   "source": [
    "###  Let's prepare submission.csv file to submit the result on Kaggle website"
   ]
  },
  {
   "cell_type": "code",
   "execution_count": 26,
   "metadata": {},
   "outputs": [],
   "source": [
    "# Loading both datasets from kaggle\n",
    "pathname = \"C:/Users/email/Downloads/\"\n",
    "df_train= pd.read_csv(pathname + \"train.csv\") \n",
    "df_test = pd.read_csv(pathname + \"test.csv\")"
   ]
  },
  {
   "cell_type": "code",
   "execution_count": 27,
   "metadata": {},
   "outputs": [],
   "source": [
    "df = pd.concat([df_train, df_test],ignore_index = True)"
   ]
  },
  {
   "cell_type": "code",
   "execution_count": 28,
   "metadata": {},
   "outputs": [
    {
     "data": {
      "text/plain": [
       "(2919, 81)"
      ]
     },
     "execution_count": 28,
     "metadata": {},
     "output_type": "execute_result"
    }
   ],
   "source": [
    "df.shape"
   ]
  },
  {
   "cell_type": "code",
   "execution_count": 29,
   "metadata": {},
   "outputs": [],
   "source": [
    "#Dropping Id(non-informative) and all variables with more than 20% null values and also bldgType can be represented by MSSubClass\n",
    "df1 = df.drop(['Id','Alley','FireplaceQu','PoolQC','MiscFeature','Fence'], axis=1)"
   ]
  },
  {
   "cell_type": "code",
   "execution_count": 30,
   "metadata": {},
   "outputs": [],
   "source": [
    "# MSSubClass listed as integer but it's a categorical variable, let's convert it\n",
    "df1['MSSubClass'] = df1['MSSubClass'].astype(object)\n",
    "#df1.info()"
   ]
  },
  {
   "cell_type": "code",
   "execution_count": 31,
   "metadata": {},
   "outputs": [],
   "source": [
    "# Filling every categorical column with missing values by its own most frequent value\n",
    "df1 = df1.apply(lambda x:x.fillna(x.value_counts().index[0]))\n",
    "# Replacing null values with median for numeric variables\n",
    "df1.fillna(df1.mean(), inplace=True)"
   ]
  },
  {
   "cell_type": "code",
   "execution_count": 32,
   "metadata": {},
   "outputs": [
    {
     "data": {
      "text/plain": [
       "Series([], dtype: int64)"
      ]
     },
     "execution_count": 32,
     "metadata": {},
     "output_type": "execute_result"
    }
   ],
   "source": [
    "# let's check back NA\n",
    "nulls = df1.isnull().sum()\n",
    "nulls[nulls > 0]\n",
    "# no NA values"
   ]
  },
  {
   "cell_type": "code",
   "execution_count": 33,
   "metadata": {},
   "outputs": [],
   "source": [
    "# First, designating target variable name\n",
    "targetName = 'SalePrice'\n",
    "targetSeries = df1[targetName]\n",
    "#remove target from current location and insert in column 0\n",
    "del df1[targetName]\n",
    "df1.insert(0, targetName, targetSeries)\n",
    "#targetSeries is the new target "
   ]
  },
  {
   "cell_type": "code",
   "execution_count": 34,
   "metadata": {},
   "outputs": [],
   "source": [
    "#df1.head()"
   ]
  },
  {
   "cell_type": "code",
   "execution_count": 35,
   "metadata": {},
   "outputs": [],
   "source": [
    "# All required packages\n",
    "%matplotlib inline \n",
    "import numpy as np\n",
    "import matplotlib.pyplot as plt\n",
    "import pandas as pd\n",
    "from sklearn import preprocessing\n",
    "from sklearn.model_selection import train_test_split\n",
    "from sklearn.metrics import accuracy_score, precision_score, recall_score, f1_score\n",
    "from sklearn.metrics import roc_curve, auc, confusion_matrix, classification_report\n",
    "from sklearn import tree \n",
    "from sklearn.ensemble import RandomForestClassifier\n",
    "from sklearn.model_selection import train_test_split\n",
    "import scipy.stats as ss\n",
    "from sklearn.neighbors import KNeighborsClassifier\n",
    "from sklearn.model_selection import learning_curve, GridSearchCV\n",
    "import time \n",
    "from operator import itemgetter\n",
    "import os\n",
    "from sklearn.model_selection import GridSearchCV\n",
    "from sklearn.tree import DecisionTreeClassifier, export_graphviz\n",
    "from sklearn import metrics"
   ]
  },
  {
   "cell_type": "code",
   "execution_count": 36,
   "metadata": {},
   "outputs": [],
   "source": [
    "# performing data transformation\n",
    "for col in df1.columns[1:]:\n",
    "\tattName = col\n",
    "\tdType = df1[col].dtype\n",
    "\tmissing = pd.isnull(df1[col]).any()\n",
    "\tuniqueCount = len(df1[attName].value_counts(normalize=False))\n",
    "\t# discretize (create dummies)\n",
    "\tif dType == object:\n",
    "\t\tdf1 = pd.concat([df1, pd.get_dummies(df1[col], prefix=col)], axis=1)\n",
    "\t\tdel df1[attName]"
   ]
  },
  {
   "cell_type": "code",
   "execution_count": 37,
   "metadata": {},
   "outputs": [
    {
     "data": {
      "text/plain": [
       "(2919, 271)"
      ]
     },
     "execution_count": 37,
     "metadata": {},
     "output_type": "execute_result"
    }
   ],
   "source": [
    "# checking dimension \n",
    "df1.shape"
   ]
  },
  {
   "cell_type": "code",
   "execution_count": 38,
   "metadata": {},
   "outputs": [],
   "source": [
    "# Partioning of the data\n",
    "X =df1.iloc[:,1:].values\n",
    "y= df1.iloc[:,0].values\n",
    "\n",
    "#X_train, X_test, y_train, y_test = train_test_split(X, y, test_size=0.5, random_state=0)\n",
    "X_test, X_train, y_test, y_train = train_test_split(X, y, test_size=0.5, random_state=0)"
   ]
  },
  {
   "cell_type": "code",
   "execution_count": 39,
   "metadata": {},
   "outputs": [
    {
     "name": "stdout",
     "output_type": "stream",
     "text": [
      "(1460, 270)\n",
      "(1460,)\n",
      "(1459, 270)\n",
      "(1459,)\n"
     ]
    }
   ],
   "source": [
    "# let's see the datasets' dimension\n",
    "# As per instructions on Kaggle, size of train(1460 observations) & test(1459 observations) set have been partitioned\n",
    "print(X_train.shape)\n",
    "print(y_train.shape)\n",
    "\n",
    "print(X_test.shape)\n",
    "print(y_test.shape)"
   ]
  },
  {
   "cell_type": "markdown",
   "metadata": {},
   "source": [
    "#### Random Forest Algorithm"
   ]
  },
  {
   "cell_type": "code",
   "execution_count": 40,
   "metadata": {},
   "outputs": [
    {
     "name": "stdout",
     "output_type": "stream",
     "text": [
      "Mean Absolute Error: 30964.7380717\n",
      "Mean Squared Error: 2590396526.19\n",
      "Root Mean Squared Error: 50895.9382091\n",
      "Random Forest R squared: 0.3409\n"
     ]
    }
   ],
   "source": [
    "# Trying with 1000 estimators as this gave one of the best score in Part-1\n",
    "from sklearn.ensemble import RandomForestRegressor\n",
    "\n",
    "RfModel = RandomForestRegressor(n_estimators=1000, random_state=1)  \n",
    "RfModel.fit(X_train, y_train)  \n",
    "y_predRF = RfModel.predict(X_test)\n",
    "# Evaluating the algorithm\n",
    "from sklearn import metrics\n",
    "\n",
    "print('Mean Absolute Error:', metrics.mean_absolute_error(y_test, y_predRF))  \n",
    "print('Mean Squared Error:', metrics.mean_squared_error(y_test, y_predRF))  \n",
    "print('Root Mean Squared Error:', np.sqrt(metrics.mean_squared_error(y_test, y_predRF)))\n",
    "print('Random Forest R squared: %.4f' % RfModel.score(X_test, y_test))"
   ]
  },
  {
   "cell_type": "code",
   "execution_count": 41,
   "metadata": {},
   "outputs": [
    {
     "name": "stdout",
     "output_type": "stream",
     "text": [
      "Average coefficient of determination using 5-fold cross-validation: 0.298551165434\n"
     ]
    }
   ],
   "source": [
    "from sklearn.model_selection import cross_val_score\n",
    "from sklearn.model_selection import train_test_split\n",
    "scores = cross_val_score(RfModel, X_train, y_train, cv=5)\n",
    "print(\"Average coefficient of determination using 5-fold cross-validation:\",np.mean(scores))"
   ]
  },
  {
   "cell_type": "markdown",
   "metadata": {},
   "source": [
    "The R^2 =34% is very low and cross-validated performance is around 30% which means only 4% difference than train/test model ...."
   ]
  },
  {
   "cell_type": "code",
   "execution_count": 42,
   "metadata": {},
   "outputs": [
    {
     "data": {
      "image/png": "[encoded data removed]",
      "text/plain": [
       "<matplotlib.figure.Figure at 0x27491e62a20>"
      ]
     },
     "metadata": {
      "needs_background": "light"
     },
     "output_type": "display_data"
    }
   ],
   "source": [
    "# Finding the most important features\n",
    "# storing all feature names\n",
    "feature_names = df1.columns[1:]\n",
    "#feature_names\n",
    "importances = RfModel.feature_importances_\n",
    "indices = np.argsort(importances)[-9:]  # top 10 features\n",
    "plt.title('Feature Importances')\n",
    "plt.barh(range(len(indices)), importances[indices], color='b', align='center')\n",
    "plt.yticks(range(len(indices)), [feature_names[i] for i in indices])\n",
    "plt.xlabel('Relative Importance')\n",
    "plt.show()"
   ]
  },
  {
   "cell_type": "code",
   "execution_count": 43,
   "metadata": {},
   "outputs": [
    {
     "data": {
      "text/html": [
       "<div>\n",
       "<style scoped>\n",
       "    .dataframe tbody tr th:only-of-type {\n",
       "        vertical-align: middle;\n",
       "    }\n",
       "\n",
       "    .dataframe tbody tr th {\n",
       "        vertical-align: top;\n",
       "    }\n",
       "\n",
       "    .dataframe thead th {\n",
       "        text-align: right;\n",
       "    }\n",
       "</style>\n",
       "<table border=\"1\" class=\"dataframe\">\n",
       "  <thead>\n",
       "    <tr style=\"text-align: right;\">\n",
       "      <th></th>\n",
       "      <th>importance</th>\n",
       "    </tr>\n",
       "  </thead>\n",
       "  <tbody>\n",
       "    <tr>\n",
       "      <th>OverallQual</th>\n",
       "      <td>0.237335</td>\n",
       "    </tr>\n",
       "    <tr>\n",
       "      <th>GrLivArea</th>\n",
       "      <td>0.075459</td>\n",
       "    </tr>\n",
       "    <tr>\n",
       "      <th>TotRmsAbvGrd</th>\n",
       "      <td>0.054894</td>\n",
       "    </tr>\n",
       "    <tr>\n",
       "      <th>TotalBsmtSF</th>\n",
       "      <td>0.049028</td>\n",
       "    </tr>\n",
       "    <tr>\n",
       "      <th>GarageArea</th>\n",
       "      <td>0.046456</td>\n",
       "    </tr>\n",
       "    <tr>\n",
       "      <th>LotArea</th>\n",
       "      <td>0.042323</td>\n",
       "    </tr>\n",
       "    <tr>\n",
       "      <th>BsmtUnfSF</th>\n",
       "      <td>0.034421</td>\n",
       "    </tr>\n",
       "    <tr>\n",
       "      <th>MasVnrArea</th>\n",
       "      <td>0.033517</td>\n",
       "    </tr>\n",
       "    <tr>\n",
       "      <th>BsmtFinSF1</th>\n",
       "      <td>0.030847</td>\n",
       "    </tr>\n",
       "    <tr>\n",
       "      <th>WoodDeckSF</th>\n",
       "      <td>0.028332</td>\n",
       "    </tr>\n",
       "  </tbody>\n",
       "</table>\n",
       "</div>"
      ],
      "text/plain": [
       "              importance\n",
       "OverallQual     0.237335\n",
       "GrLivArea       0.075459\n",
       "TotRmsAbvGrd    0.054894\n",
       "TotalBsmtSF     0.049028\n",
       "GarageArea      0.046456\n",
       "LotArea         0.042323\n",
       "BsmtUnfSF       0.034421\n",
       "MasVnrArea      0.033517\n",
       "BsmtFinSF1      0.030847\n",
       "WoodDeckSF      0.028332"
      ]
     },
     "execution_count": 43,
     "metadata": {},
     "output_type": "execute_result"
    }
   ],
   "source": [
    "# Let's see important features in tabular form\n",
    "import pandas as pd\n",
    "feature_importances = pd.DataFrame(RfModel.feature_importances_,index =  df1.columns[1:],\n",
    "                                    columns=['importance']).sort_values('importance',ascending=False)\n",
    "feature_importances[:10]"
   ]
  },
  {
   "cell_type": "markdown",
   "metadata": {},
   "source": [
    "As we see the above result, overall quality counts for about 24% importance whereas rest of the variables count for less than 10%"
   ]
  },
  {
   "cell_type": "code",
   "execution_count": 44,
   "metadata": {},
   "outputs": [],
   "source": [
    "# Selecting all important features \n",
    "df3 = df1[['SalePrice','OverallQual','GrLivArea','TotRmsAbvGrd','TotalBsmtSF','GarageArea','LotArea','BsmtUnfSF','MasVnrArea','BsmtFinSF1','WoodDeckSF']].copy()\n",
    "X2 = df3.iloc[:,1:].values \n",
    "#X2\n",
    "y2=df3.iloc[:,0].values\n",
    "# Partitioning the data with 80/20 split\n",
    "from sklearn.model_selection import train_test_split\n",
    "X2_train, X2_test, y2_train, y2_test = train_test_split(X2, y2, test_size=0.2, random_state=0)"
   ]
  },
  {
   "cell_type": "markdown",
   "metadata": {},
   "source": [
    "#### Random Forest Model using only important features"
   ]
  },
  {
   "cell_type": "code",
   "execution_count": 45,
   "metadata": {},
   "outputs": [],
   "source": [
    "# This model with all important features \n",
    "from sklearn.ensemble import RandomForestRegressor\n",
    "RfModel2 = RandomForestRegressor(random_state=1, max_depth=10)\n",
    "# fitting the model\n",
    "RfModel2.fit(X2_train,y2_train)\n",
    "# making predictions\n",
    "y_pred2 = RfModel2.predict(X2_test)"
   ]
  },
  {
   "cell_type": "code",
   "execution_count": 46,
   "metadata": {},
   "outputs": [
    {
     "name": "stdout",
     "output_type": "stream",
     "text": [
      "Mean Absolute Error: 30515.8207149\n",
      "Mean Squared Error: 2078367326.52\n",
      "Root Mean Squared Error: 45589.114123\n",
      "Random Forest R squared\": 0.2735\n"
     ]
    }
   ],
   "source": [
    "# Evaluating the algorithm\n",
    "from sklearn import metrics\n",
    "\n",
    "print('Mean Absolute Error:', metrics.mean_absolute_error(y2_test, y_pred2))  \n",
    "print('Mean Squared Error:', metrics.mean_squared_error(y2_test, y_pred2))  \n",
    "print('Root Mean Squared Error:', np.sqrt(metrics.mean_squared_error(y2_test, y_pred2)))\n",
    "# let's check r^2\n",
    "print('Random Forest R squared\": %.4f' % RfModel2.score(X2_test, y2_test))"
   ]
  },
  {
   "cell_type": "markdown",
   "metadata": {},
   "source": [
    "Lower R^2 than the original model... "
   ]
  },
  {
   "cell_type": "code",
   "execution_count": 47,
   "metadata": {},
   "outputs": [],
   "source": [
    "# Feature Scaling\n",
    "from sklearn.preprocessing import StandardScaler\n",
    "\n",
    "sc = StandardScaler()  \n",
    "X_train = sc.fit_transform(X_train)  \n",
    "X_test = sc.transform(X_test)"
   ]
  },
  {
   "cell_type": "markdown",
   "metadata": {},
   "source": [
    "#### Gradient Boosting Algorithm"
   ]
  },
  {
   "cell_type": "code",
   "execution_count": 48,
   "metadata": {},
   "outputs": [
    {
     "data": {
      "text/plain": [
       "GradientBoostingRegressor(alpha=0.9, criterion='friedman_mse', init=None,\n",
       "                          learning_rate=0.1, loss='ls', max_depth=3,\n",
       "                          max_features=None, max_leaf_nodes=None,\n",
       "                          min_impurity_decrease=0.0, min_impurity_split=None,\n",
       "                          min_samples_leaf=1, min_samples_split=2,\n",
       "                          min_weight_fraction_leaf=0.0, n_estimators=100,\n",
       "                          n_iter_no_change=None, presort='auto',\n",
       "                          random_state=None, subsample=1.0, tol=0.0001,\n",
       "                          validation_fraction=0.1, verbose=0, warm_start=False)"
      ]
     },
     "execution_count": 48,
     "metadata": {},
     "output_type": "execute_result"
    }
   ],
   "source": [
    "# Training Gradient boosting with default settings\n",
    "from sklearn import ensemble\n",
    "from sklearn.ensemble import GradientBoostingRegressor\n",
    "GDR_model = ensemble.GradientBoostingRegressor()\n",
    "GDR_model.fit(X_train, y_train)\n",
    "#p = GDR_model.predict(y_test)"
   ]
  },
  {
   "cell_type": "code",
   "execution_count": 49,
   "metadata": {},
   "outputs": [
    {
     "name": "stdout",
     "output_type": "stream",
     "text": [
      "Mean Absolute Error: 31488.8562497\n",
      "Mean Squared Error: 2696910627.08\n",
      "Root Mean Squared Error: 51931.7882138\n",
      "GDR R squared\": 0.3138\n"
     ]
    }
   ],
   "source": [
    "from sklearn import metrics\n",
    "y_pred_GDR = GDR_model.predict(X_test)\n",
    "print('Mean Absolute Error:', metrics.mean_absolute_error(y_test, y_pred_GDR))  \n",
    "print('Mean Squared Error:', metrics.mean_squared_error(y_test, y_pred_GDR))  \n",
    "print('Root Mean Squared Error:', np.sqrt(metrics.mean_squared_error(y_test, y_pred_GDR)))\n",
    "print('GDR R squared\": %.4f' % GDR_model.score(X_test, y_test))"
   ]
  },
  {
   "cell_type": "code",
   "execution_count": 50,
   "metadata": {},
   "outputs": [
    {
     "name": "stdout",
     "output_type": "stream",
     "text": [
      "Average coefficient of determination using 5-fold cross-validation: 0.256167709977\n"
     ]
    }
   ],
   "source": [
    "scores = cross_val_score(GDR_model, X_train, y_train, cv=5)\n",
    "print(\"Average coefficient of determination using 5-fold cross-validation:\",np.mean(scores))"
   ]
  },
  {
   "cell_type": "markdown",
   "metadata": {},
   "source": [
    "Gradient boosting  R^2 is not better than Random forest and even average R^2 using cv=5 cross validation 0.7 points away, more variation than Random forest"
   ]
  },
  {
   "cell_type": "markdown",
   "metadata": {},
   "source": [
    "#### Extra Trees Algorithm"
   ]
  },
  {
   "cell_type": "code",
   "execution_count": 51,
   "metadata": {},
   "outputs": [
    {
     "name": "stdout",
     "output_type": "stream",
     "text": [
      "Mean Absolute Error: 32260.4788897\n",
      "Mean Squared Error: 3026222883.56\n",
      "Root Mean Squared Error: 55011.116\n",
      "Extra Trees R squared\": 0.2300\n"
     ]
    }
   ],
   "source": [
    "from sklearn import ensemble\n",
    "from sklearn import metrics\n",
    "reg_et=ensemble.ExtraTreesRegressor(n_estimators=10,random_state=42)\n",
    "reg_et.fit(X_train, y_train)\n",
    "y_pred_et = reg_et.predict(X_test)\n",
    "print('Mean Absolute Error:', metrics.mean_absolute_error(y_test, y_pred_et))  \n",
    "print('Mean Squared Error:', metrics.mean_squared_error(y_test, y_pred_et))  \n",
    "print('Root Mean Squared Error:', np.sqrt(metrics.mean_squared_error(y_test, y_pred_et)))\n",
    "print('Extra Trees R squared\": %.4f' % reg_et.score(X_test, y_test))"
   ]
  },
  {
   "cell_type": "code",
   "execution_count": 52,
   "metadata": {},
   "outputs": [
    {
     "name": "stdout",
     "output_type": "stream",
     "text": [
      "Average coefficient of determination using 5-fold cross-validation: 0.23793725158\n"
     ]
    }
   ],
   "source": [
    "scores = cross_val_score(reg_et, X_train, y_train, cv=5)\n",
    "print(\"Average coefficient of determination using 5-fold cross-validation:\",np.mean(scores))"
   ]
  },
  {
   "cell_type": "markdown",
   "metadata": {},
   "source": [
    "R^2 is very low and proved by cv=5 as well."
   ]
  },
  {
   "cell_type": "markdown",
   "metadata": {},
   "source": [
    "#### Ridge Regression"
   ]
  },
  {
   "cell_type": "code",
   "execution_count": 53,
   "metadata": {},
   "outputs": [
    {
     "name": "stdout",
     "output_type": "stream",
     "text": [
      "Mean Absolute Error: 33885.0913754\n",
      "Mean Squared Error: 2786872323.77\n",
      "Root Mean Squared Error: 52790.835604\n",
      "Ridge Regression R squared\": 0.2909\n"
     ]
    }
   ],
   "source": [
    "# Ridge Regression\n",
    "import numpy as np\n",
    "from sklearn import datasets\n",
    "from sklearn.linear_model import Ridge\n",
    "# load the diabetes datasets\n",
    "#dataset = datasets.load_diabetes()\n",
    "# fit a ridge regression model to the data\n",
    "R_model = Ridge(alpha=0.1)\n",
    "R_model.fit(X_train, y_train)\n",
    "#print(model)\n",
    "# make predictions\n",
    "R_predicted = R_model.predict(X_test)\n",
    "# summarize the fit of the model\n",
    "print('Mean Absolute Error:', metrics.mean_absolute_error(y_test, R_predicted)) \n",
    "print('Mean Squared Error:', metrics.mean_squared_error(y_test, R_predicted))\n",
    "print('Root Mean Squared Error:', np.sqrt(metrics.mean_squared_error(y_test, R_predicted)))\n",
    "print('Ridge Regression R squared\": %.4f' % R_model.score(X_test, y_test))"
   ]
  },
  {
   "cell_type": "code",
   "execution_count": 54,
   "metadata": {},
   "outputs": [
    {
     "name": "stdout",
     "output_type": "stream",
     "text": [
      "Average coefficient of determination using 5-fold cross-validation: 0.194341117725\n"
     ]
    }
   ],
   "source": [
    "scores = cross_val_score(R_model, X_train, y_train, cv=5)\n",
    "print(\"Average coefficient of determination using 5-fold cross-validation:\",np.mean(scores))"
   ]
  },
  {
   "cell_type": "markdown",
   "metadata": {},
   "source": [
    "Ridge R^2 is near to RF and GDR but average R^2 using cv=5 is varying by 10 points"
   ]
  },
  {
   "cell_type": "markdown",
   "metadata": {},
   "source": [
    "#### ElasticNet Regression"
   ]
  },
  {
   "cell_type": "code",
   "execution_count": 55,
   "metadata": {},
   "outputs": [
    {
     "name": "stdout",
     "output_type": "stream",
     "text": [
      "Mean Absolute Error: 33176.7667064\n",
      "Mean Squared Error: 2685766661.23\n",
      "Root Mean Squared Error: 51824.3828832\n",
      "ElasticNet R squared\": 0.3166\n"
     ]
    }
   ],
   "source": [
    "# ElasticNet Regression\n",
    "# fit a model to the data\n",
    "from sklearn.linear_model import ElasticNet\n",
    "ET_model = ElasticNet(alpha=0.1,random_state=0)\n",
    "ET_model.fit(X_train, y_train)\n",
    "#print(model)\n",
    "# make predictions\n",
    "ET_predicted = ET_model.predict(X_test)\n",
    "# summarize the fit of the model\n",
    "print('Mean Absolute Error:', metrics.mean_absolute_error(y_test, ET_predicted)) \n",
    "print('Mean Squared Error:', metrics.mean_squared_error(y_test, ET_predicted))\n",
    "print('Root Mean Squared Error:', np.sqrt(metrics.mean_squared_error(y_test, ET_predicted)))\n",
    "print('ElasticNet R squared\": %.4f' % ET_model.score(X_test, y_test))"
   ]
  },
  {
   "cell_type": "code",
   "execution_count": 56,
   "metadata": {},
   "outputs": [
    {
     "name": "stdout",
     "output_type": "stream",
     "text": [
      "Average coefficient of determination using 5-fold cross-validation: 0.238493796002\n"
     ]
    }
   ],
   "source": [
    "scores = cross_val_score(ET_model, X_train, y_train, cv=5)\n",
    "print(\"Average coefficient of determination using 5-fold cross-validation:\",np.mean(scores))"
   ]
  },
  {
   "cell_type": "markdown",
   "metadata": {},
   "source": [
    "ElasticNet R^2 is better than Random Forest Model and even cross-validate average R^2 is only 3 points away, lower than Random Forest Model. I'll create submission file using predictions of both ElasticNet and Random Forest Model."
   ]
  },
  {
   "cell_type": "markdown",
   "metadata": {},
   "source": [
    "## Finally, creation of submission.csv file"
   ]
  },
  {
   "cell_type": "code",
   "execution_count": 670,
   "metadata": {},
   "outputs": [
    {
     "data": {
      "text/html": [
       "<div>\n",
       "<style scoped>\n",
       "    .dataframe tbody tr th:only-of-type {\n",
       "        vertical-align: middle;\n",
       "    }\n",
       "\n",
       "    .dataframe tbody tr th {\n",
       "        vertical-align: top;\n",
       "    }\n",
       "\n",
       "    .dataframe thead th {\n",
       "        text-align: right;\n",
       "    }\n",
       "</style>\n",
       "<table border=\"1\" class=\"dataframe\">\n",
       "  <thead>\n",
       "    <tr style=\"text-align: right;\">\n",
       "      <th></th>\n",
       "      <th>0</th>\n",
       "    </tr>\n",
       "  </thead>\n",
       "  <tbody>\n",
       "    <tr>\n",
       "      <th>0</th>\n",
       "      <td>143706.599</td>\n",
       "    </tr>\n",
       "    <tr>\n",
       "      <th>1</th>\n",
       "      <td>137693.599</td>\n",
       "    </tr>\n",
       "    <tr>\n",
       "      <th>2</th>\n",
       "      <td>175745.007</td>\n",
       "    </tr>\n",
       "  </tbody>\n",
       "</table>\n",
       "</div>"
      ],
      "text/plain": [
       "            0\n",
       "0  143706.599\n",
       "1  137693.599\n",
       "2  175745.007"
      ]
     },
     "execution_count": 670,
     "metadata": {},
     "output_type": "execute_result"
    }
   ],
   "source": [
    "# ElasticNet Predictions\n",
    "\n",
    "#ET_predicted[:5]\n",
    "\n",
    "# converting nd.array to data frame\n",
    "#dataET = ET_predicted.reshape(-1,1)\n",
    "\n",
    "#len(dataET)\n",
    "\n",
    "#dataframeET = pd.DataFrame.from_records(dataET)\n",
    "dataframe[:3]"
   ]
  },
  {
   "cell_type": "code",
   "execution_count": 680,
   "metadata": {},
   "outputs": [],
   "source": [
    "import pandas as pd\n",
    "import numpy as np\n",
    "# save progress to csv\n",
    "#dataframeET.to_csv('Kaggle_predET.csv', sep=',', index=False)\n",
    "\n",
    "# Reading the data\n",
    "#pathname = \"C:/Users/email/Downloads/\"\n",
    "#dfET = pd.read_csv(pathname + \"Kaggle_predET.csv\",header = None,encoding=\"utf-8\", skiprows=1)\n",
    "\n",
    "#dfET.shape\n",
    "\n",
    "# inserting ID column\n",
    "#dfET.insert(0,'Id', range(1461, 1461+len(df)))\n",
    "#dfET[:3]\n",
    "\n",
    "# Naming two columns\n",
    "#dfET = dfET.set_axis(['Id','SalePrice'],axis='columns', inplace=False)\n",
    "#dfET[:3]\n",
    "\n",
    "# creating submission file\n",
    "#dfET.to_csv('submission.csv', sep=',', index=False)"
   ]
  },
  {
   "cell_type": "code",
   "execution_count": 529,
   "metadata": {},
   "outputs": [
    {
     "data": {
      "text/plain": [
       "array([143706.599, 137693.599, 175745.007, 139306.435, 117376.333])"
      ]
     },
     "execution_count": 529,
     "metadata": {},
     "output_type": "execute_result"
    }
   ],
   "source": [
    "# Random Forest Predictions\n",
    "y_predRF[:5]"
   ]
  },
  {
   "cell_type": "code",
   "execution_count": 530,
   "metadata": {},
   "outputs": [],
   "source": [
    "# converting nd.array to data frame\n",
    "data = y_predRF.reshape(-1,1)\n",
    "len(data)\n",
    "dataframe = pd.DataFrame.from_records(data)\n",
    "#dataframe[:3]"
   ]
  },
  {
   "cell_type": "code",
   "execution_count": 537,
   "metadata": {},
   "outputs": [
    {
     "data": {
      "text/plain": [
       "(1459, 1)"
      ]
     },
     "execution_count": 537,
     "metadata": {},
     "output_type": "execute_result"
    }
   ],
   "source": [
    "# Reading the data\n",
    "pathname = \"C:/Users/email/Downloads/\"\n",
    "\n",
    "df = pd.read_csv(pathname + \"Kaggle_pred2.csv\",header = None,encoding=\"utf-8\", skiprows=1)\n",
    "df.shape"
   ]
  },
  {
   "cell_type": "code",
   "execution_count": 538,
   "metadata": {},
   "outputs": [
    {
     "data": {
      "text/html": [
       "<div>\n",
       "<style scoped>\n",
       "    .dataframe tbody tr th:only-of-type {\n",
       "        vertical-align: middle;\n",
       "    }\n",
       "\n",
       "    .dataframe tbody tr th {\n",
       "        vertical-align: top;\n",
       "    }\n",
       "\n",
       "    .dataframe thead th {\n",
       "        text-align: right;\n",
       "    }\n",
       "</style>\n",
       "<table border=\"1\" class=\"dataframe\">\n",
       "  <thead>\n",
       "    <tr style=\"text-align: right;\">\n",
       "      <th></th>\n",
       "      <th>Id</th>\n",
       "      <th>0</th>\n",
       "    </tr>\n",
       "  </thead>\n",
       "  <tbody>\n",
       "    <tr>\n",
       "      <th>0</th>\n",
       "      <td>1461</td>\n",
       "      <td>143748.749</td>\n",
       "    </tr>\n",
       "    <tr>\n",
       "      <th>1</th>\n",
       "      <td>1462</td>\n",
       "      <td>137780.849</td>\n",
       "    </tr>\n",
       "    <tr>\n",
       "      <th>2</th>\n",
       "      <td>1463</td>\n",
       "      <td>175721.007</td>\n",
       "    </tr>\n",
       "  </tbody>\n",
       "</table>\n",
       "</div>"
      ],
      "text/plain": [
       "     Id           0\n",
       "0  1461  143748.749\n",
       "1  1462  137780.849\n",
       "2  1463  175721.007"
      ]
     },
     "execution_count": 538,
     "metadata": {},
     "output_type": "execute_result"
    }
   ],
   "source": [
    "# inserting ID column\n",
    "df.insert(0,'Id', range(1461, 1461+len(df)))\n",
    "df[:3]"
   ]
  },
  {
   "cell_type": "code",
   "execution_count": 539,
   "metadata": {},
   "outputs": [
    {
     "data": {
      "text/html": [
       "<div>\n",
       "<style scoped>\n",
       "    .dataframe tbody tr th:only-of-type {\n",
       "        vertical-align: middle;\n",
       "    }\n",
       "\n",
       "    .dataframe tbody tr th {\n",
       "        vertical-align: top;\n",
       "    }\n",
       "\n",
       "    .dataframe thead th {\n",
       "        text-align: right;\n",
       "    }\n",
       "</style>\n",
       "<table border=\"1\" class=\"dataframe\">\n",
       "  <thead>\n",
       "    <tr style=\"text-align: right;\">\n",
       "      <th></th>\n",
       "      <th>Id</th>\n",
       "      <th>SalePrice</th>\n",
       "    </tr>\n",
       "  </thead>\n",
       "  <tbody>\n",
       "    <tr>\n",
       "      <th>0</th>\n",
       "      <td>1461</td>\n",
       "      <td>143748.749</td>\n",
       "    </tr>\n",
       "    <tr>\n",
       "      <th>1</th>\n",
       "      <td>1462</td>\n",
       "      <td>137780.849</td>\n",
       "    </tr>\n",
       "    <tr>\n",
       "      <th>2</th>\n",
       "      <td>1463</td>\n",
       "      <td>175721.007</td>\n",
       "    </tr>\n",
       "  </tbody>\n",
       "</table>\n",
       "</div>"
      ],
      "text/plain": [
       "     Id   SalePrice\n",
       "0  1461  143748.749\n",
       "1  1462  137780.849\n",
       "2  1463  175721.007"
      ]
     },
     "execution_count": 539,
     "metadata": {},
     "output_type": "execute_result"
    }
   ],
   "source": [
    "# Naming two columns\n",
    "df = df.set_axis(['Id','SalePrice'],axis='columns', inplace=False)\n",
    "df[:3]"
   ]
  },
  {
   "cell_type": "code",
   "execution_count": 540,
   "metadata": {},
   "outputs": [
    {
     "data": {
      "text/plain": [
       "(1459, 2)"
      ]
     },
     "execution_count": 540,
     "metadata": {},
     "output_type": "execute_result"
    }
   ],
   "source": [
    "df.shape\n",
    "# creating submission file\n",
    "#df.to_csv('submission.csv', sep=',', index=False)"
   ]
  },
  {
   "cell_type": "markdown",
   "metadata": {},
   "source": [
    "#                                                                               The end:"
   ]
  },
  {
   "cell_type": "code",
   "execution_count": null,
   "metadata": {},
   "outputs": [],
   "source": []
  }
 ],
 "metadata": {
  "anaconda-cloud": {},
  "kernelspec": {
   "display_name": "Python 3",
   "language": "python",
   "name": "python3"
  },
  "language_info": {
   "codemirror_mode": {
    "name": "ipython",
    "version": 3
   },
   "file_extension": ".py",
   "mimetype": "text/x-python",
   "name": "python",
   "nbconvert_exporter": "python",
   "pygments_lexer": "ipython3",
   "version": "3.6.6"
  }
 },
 "nbformat": 4,
 "nbformat_minor": 1
}
