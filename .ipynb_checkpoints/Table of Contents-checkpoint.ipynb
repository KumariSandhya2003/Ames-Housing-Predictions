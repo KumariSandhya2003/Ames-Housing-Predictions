{
 "cells": [
  {
   "cell_type": "markdown",
   "metadata": {},
   "source": [
    "# Table of Contents\n",
    "* [Chapter 1](#chapter1)\n",
    "    * [Section 1.1](#section_1_1)\n",
    "* [Chapter 2](#chapter2)\n",
    "    * [Section 2.1](#section_2_1)\n",
    "        * [Sub Section 2.1.1](#sub_section_2_1_1)\n",
    "        * [Sub Section 2.1.2](#sub_section_2_1_2)\n",
    "* [Chapter 3](#chapter3)\n",
    "    * [Section 3.1](#section_3_1)\n",
    "        * [Sub Section 3.1.1](#sub_section_3_1_1)\n",
    "        * [Sub Section 3.1.2](#sub_section_3_1_2)\n",
    "    * [Section 3.2](#section_3_2)\n",
    "        * [Sub Section 3.2.1](#sub_section_3_2_1)\n",
    "##### https://www.geeksforgeeks.org/how-to-add-a-table-of-contents-in-the-jupyter-notebook/      "
   ]
  },
  {
   "cell_type": "markdown",
   "metadata": {},
   "source": [
    "* [I Classification Tree](#chapter1)\n",
    "    * [Decision Tree for Classification](#section_1_1)  \n",
    "    * [Required Packages](#sub_section_1_2)\n",
    "    * [Load the Data](#sub_section_1_3)\n",
    "    * [Split the Data](#sub_section_1_4)\n",
    "    * [Train the Model](#sub_section_1_5)\n",
    "    * [Evaluate the Model](#sub_section_1_6)\n",
    "* [Logistic Regression vs Classification Tree](#chapter2)\n",
    "* [Classification Tree learning](#chapter3)\n",
    "    * [Growing a Classification Tree](#section_3_1)\n",
    "        * [Using Entropy as a criterion](#sub_section_3_1_1)\n",
    "        * [Entropy vs Gini Index](#sub_section_3_1_2)\n",
    "* [Decision Tree for regression](#chapter4)\n",
    "    * [Train the decision tree regression model](#section_4_1)\n",
    "    * [Evaluate the decision tree regression model](#section_4_1)\n",
    "* [Logistic Regression vs Classification Tree](#chapter5)      "
   ]
  },
  {
   "cell_type": "markdown",
   "metadata": {},
   "source": [
    "## Classification Tree <a class=\"anchor\" id=\"chapter1\"></a>\n",
    "      It is sequence of if-else questions about individual feature.\n",
    "      Its objective is to infer class labels.\n",
    "      it is able to capture non-linear relationships between features and labels.\n",
    "      It doesn't require feature scaling (ex: Standardization,..)\n",
    "### Decision Tree for Classification <a id=\"section_1_1\"></a>"
   ]
  },
  {
   "cell_type": "markdown",
   "metadata": {},
   "source": [
    "#### All required packages <a id=\"sub_section_1_2\"></a>"
   ]
  },
  {
   "cell_type": "code",
   "execution_count": 3,
   "metadata": {},
   "outputs": [],
   "source": [
    "# All required packages\n",
    "%matplotlib inline \n",
    "import os\n",
    "import time \n",
    "import numpy as np\n",
    "import pandas as pd\n",
    "import warnings\n",
    "import seaborn as sns\n",
    "import scipy.stats as ss\n",
    "from sklearn import tree \n",
    "from sklearn import metrics\n",
    "from operator import itemgetter\n",
    "import matplotlib.pyplot as plt\n",
    "warnings.filterwarnings('ignore')\n",
    "from sklearn import preprocessing\n",
    "from sklearn.neighbors import KNeighborsClassifier\n",
    "from sklearn.ensemble import RandomForestClassifier\n",
    "from sklearn.model_selection import train_test_split\n",
    "from sklearn.model_selection import learning_curve, GridSearchCV\n",
    "from sklearn.tree import DecisionTreeClassifier, export_graphviz\n",
    "from sklearn.metrics import accuracy_score, precision_score, recall_score, f1_score\n",
    "from sklearn.metrics import roc_curve, auc, confusion_matrix, classification_report"
   ]
  },
  {
   "cell_type": "code",
   "execution_count": 5,
   "metadata": {},
   "outputs": [
    {
     "data": {
      "application/javascript": [
       "$.getScript('https://kmahelona.github.io/ipython_notebook_goodies/ipython_notebook_toc.js')\n"
      ],
      "text/plain": [
       "<IPython.core.display.Javascript object>"
      ]
     },
     "metadata": {},
     "output_type": "display_data"
    }
   ],
   "source": [
    "%%javascript\n",
    "$.getScript('https://kmahelona.github.io/ipython_notebook_goodies/ipython_notebook_toc.js')"
   ]
  },
  {
   "cell_type": "markdown",
   "metadata": {},
   "source": [
    "### Load the data <a id=\"section_1_3\"></a>\n"
   ]
  },
  {
   "cell_type": "code",
   "execution_count": null,
   "metadata": {},
   "outputs": [],
   "source": []
  },
  {
   "cell_type": "markdown",
   "metadata": {},
   "source": [
    "### Split the data <a id=\"section_1_4\"></a>\n"
   ]
  },
  {
   "cell_type": "code",
   "execution_count": null,
   "metadata": {},
   "outputs": [],
   "source": []
  },
  {
   "cell_type": "markdown",
   "metadata": {},
   "source": [
    "### Train the model <a id=\"section_1_5\"></a>\n"
   ]
  },
  {
   "cell_type": "code",
   "execution_count": null,
   "metadata": {},
   "outputs": [],
   "source": []
  },
  {
   "cell_type": "markdown",
   "metadata": {},
   "source": [
    "### Section 1.6 <a id=\"section_1_6\"></a>\n",
    "Evaluate the model"
   ]
  },
  {
   "cell_type": "markdown",
   "metadata": {},
   "source": [
    "## Chapter 2 <a id=\"chapter2\"></a>\n",
    "This is chapter number 2\n",
    "### Section 2.1 <a id=\"section_2_1\"></a>\n",
    "This is section 2.1\n",
    "#### Section 2.1.1 <a id=\"sub_section_2_1_1\"></a>\n",
    "This is sub section 2.1.1\n",
    "#### Section 2.1.2 <a id=\"sub_section_2_1_2\"></a>\n",
    "This is sub section 2.1.2\n",
    "## Chapter 3 <a id=\"chapter3\"></a>\n",
    "This is chapter number 3\n",
    "### Section 3.1 <a id=\"section_3_1\"></a>\n",
    "This is section 3.1\n",
    "#### Section 3.1.1 <a id=\"sub_section_3_1_1\"></a>\n",
    "This is sub section 3.1.1\n",
    "#### Section 3.1.2 <a id=\"sub_section_3_1_2\"></a>\n",
    "This is sub section 3.1.2\n",
    "### Section 3.2 <a id=\"section_3_2\"></a>\n",
    "This is section 3.2\n",
    "#### Section 3.2.1 <a id=\"sub_section_3_2_1\"></a>\n",
    "This is sub section 3.2.1"
   ]
  },
  {
   "cell_type": "code",
   "execution_count": null,
   "metadata": {},
   "outputs": [],
   "source": []
  },
  {
   "cell_type": "markdown",
   "metadata": {},
   "source": [
    "# Table of Contents : Ames-Housing-Prediction\n",
    "* [1.Ames Housing Dataset - Introduction](#chapter1)\n",
    "    * [I.Housing Data Info](#section_1_1)\n",
    "    * [II.Exploratory Data Analysis](#section_1_2)\n",
    "        * [Interpretation of Categorical Features 1](#sub_section_1_2_1)\n",
    "        * [Interpretation of Categorical Features 2](#sub_section_1_2_2)\n",
    "        * [Let's check out analysis with numerical Variables](#sub_section_1_2_3)\n",
    "        * [Interpretation](#sub_section_1_2_4)\n",
    "    * [III.Correlation between Predictors and Target Variable](#section_1_3)\n",
    "    * [IV.Let's start model training](#section_1_4)\n",
    "    * [V.Importing all required modules](#sub_section_1_5)\n",
    "    * [VI.Data transformation](#sub_section_1_6)\n",
    "    * [VII.Data Split](#sub_section_1_7)\n",
    "    * [VIII.Linear Regression Model](#sub_section_1_8)   \n",
    "    * [IX.Random Forest Model](#sub_section_1_9)  \n",
    "    * [X.Gradient Boosting Model](#sub_section_1_10)  \n",
    "    * [XI.Extra Trees Model](#sub_section_1_11)  \n",
    "    * [XII.Ridge Model](#sub_section_1_12)  \n",
    "    * [XIII.Lasso Model](#sub_section_1_13)  \n",
    "    * [XIIV.Elastic Net Model](#sub_section_1_14)        \n",
    "        \n",
    "* [2.Conclusion](#chapter2)\n",
    "* [3.Submission on Kaggle](#chapter3)\n",
    "    * [Select Most efficient algorithm and Prepare results to submit](#section_3_1)\n",
    "        * [Random Forest Algorithm](#sub_section_3_1_1)\n",
    "        * [Random Forest Algorithm with Important Features Only](#sub_section_3_1_2)\n",
    "        * [Gradient Boosting Algorithm](#sub_section_3_1_3)\n",
    "        * [Extra trees Algorithm](#sub_section_3_1_4)\n",
    "        * [Ridge Algorithm](#sub_section_3_1_5)\n",
    "        * [Elastic Net Algorithm](#sub_section_3_1_6)\n",
    "* [4.Save results in A csv file](#section_4_1)\n",
    "* [The End](#section_5_1)"
   ]
  },
  {
   "cell_type": "code",
   "execution_count": null,
   "metadata": {},
   "outputs": [],
   "source": []
  }
 ],
 "metadata": {
  "kernelspec": {
   "display_name": "Python 3",
   "language": "python",
   "name": "python3"
  },
  "language_info": {
   "codemirror_mode": {
    "name": "ipython",
    "version": 3
   },
   "file_extension": ".py",
   "mimetype": "text/x-python",
   "name": "python",
   "nbconvert_exporter": "python",
   "pygments_lexer": "ipython3",
   "version": "3.8.3"
  }
 },
 "nbformat": 4,
 "nbformat_minor": 4
}
